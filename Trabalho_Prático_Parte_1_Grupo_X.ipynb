{
  "cells": [
    {
      "cell_type": "markdown",
      "metadata": {
        "id": "view-in-github",
        "colab_type": "text"
      },
      "source": [
        "<a href=\"https://colab.research.google.com/github/gbam-ds/FinalProject_IntroPython/blob/main/Trabalho_Pr%C3%A1tico_Parte_1_Grupo_X.ipynb\" target=\"_parent\"><img src=\"https://colab.research.google.com/assets/colab-badge.svg\" alt=\"Open In Colab\"/></a>"
      ]
    },
    {
      "cell_type": "markdown",
      "id": "f871ef43",
      "metadata": {
        "id": "f871ef43"
      },
      "source": [
        "# Trabalho Final\n"
      ]
    },
    {
      "cell_type": "markdown",
      "source": [
        "Neste trabalho final, André Masuko e Gustavo Baroni se debruçam em analisar a base de dados [Airline-Sentiment](https://data.world/crowdflower/airline-twitter-sentiment). Essa base é formada pela coleção de tweets em relação a companhias aéreas dos EUA, incluindo uma análise do teor desses."
      ],
      "metadata": {
        "id": "qO-f2nfKUtzC"
      },
      "id": "qO-f2nfKUtzC"
    },
    {
      "cell_type": "markdown",
      "id": "90c7d911",
      "metadata": {
        "id": "90c7d911"
      },
      "source": [
        "# Conhecendo a base"
      ]
    },
    {
      "cell_type": "markdown",
      "source": [
        "##Importando e conhecendo a estrutura"
      ],
      "metadata": {
        "id": "r13MOHbqXJXf"
      },
      "id": "r13MOHbqXJXf"
    },
    {
      "cell_type": "code",
      "execution_count": 1,
      "id": "3dbf8212",
      "metadata": {
        "colab": {
          "base_uri": "https://localhost:8080/",
          "height": 527
        },
        "id": "3dbf8212",
        "outputId": "ccba9674-a148-45b8-9835-905cf872a919"
      },
      "outputs": [
        {
          "output_type": "execute_result",
          "data": {
            "text/plain": [
              "           _golden _unit_state  _trusted_judgments _last_judgment_at  \\\n",
              "_unit_id                                                               \n",
              "681448150    False   finalized                   3      2/25/15 5:24   \n",
              "681448153    False   finalized                   3      2/25/15 1:53   \n",
              "681448156    False   finalized                   3     2/25/15 10:01   \n",
              "681448158    False   finalized                   3      2/25/15 3:05   \n",
              "681448159    False   finalized                   3      2/25/15 5:50   \n",
              "\n",
              "          airline_sentiment  airline_sentiment:confidence negativereason  \\\n",
              "_unit_id                                                                   \n",
              "681448150           neutral                        1.0000            NaN   \n",
              "681448153          positive                        0.3486            NaN   \n",
              "681448156           neutral                        0.6837            NaN   \n",
              "681448158          negative                        1.0000     Bad Flight   \n",
              "681448159          negative                        1.0000     Can't Tell   \n",
              "\n",
              "           negativereason:confidence         airline airline_sentiment_gold  \\\n",
              "_unit_id                                                                      \n",
              "681448150                        NaN  Virgin America                    NaN   \n",
              "681448153                     0.0000  Virgin America                    NaN   \n",
              "681448156                        NaN  Virgin America                    NaN   \n",
              "681448158                     0.7033  Virgin America                    NaN   \n",
              "681448159                     1.0000  Virgin America                    NaN   \n",
              "\n",
              "                 name negativereason_gold  retweet_count  \\\n",
              "_unit_id                                                   \n",
              "681448150     cairdin                 NaN              0   \n",
              "681448153    jnardino                 NaN              0   \n",
              "681448156  yvonnalynn                 NaN              0   \n",
              "681448158    jnardino                 NaN              0   \n",
              "681448159    jnardino                 NaN              0   \n",
              "\n",
              "                                                        text tweet_coord  \\\n",
              "_unit_id                                                                   \n",
              "681448150                @VirginAmerica What @dhepburn said.         NaN   \n",
              "681448153  @VirginAmerica plus you've added commercials t...         NaN   \n",
              "681448156  @VirginAmerica I didn't today... Must mean I n...         NaN   \n",
              "681448158  @VirginAmerica it's really aggressive to blast...         NaN   \n",
              "681448159  @VirginAmerica and it's a really big bad thing...         NaN   \n",
              "\n",
              "           tweet_created      tweet_id tweet_location  \\\n",
              "_unit_id                                                \n",
              "681448150  2/24/15 11:35  5.703060e+17            NaN   \n",
              "681448153  2/24/15 11:15  5.703010e+17            NaN   \n",
              "681448156  2/24/15 11:15  5.703010e+17      Lets Play   \n",
              "681448158  2/24/15 11:15  5.703010e+17            NaN   \n",
              "681448159  2/24/15 11:14  5.703010e+17            NaN   \n",
              "\n",
              "                        user_timezone  \n",
              "_unit_id                               \n",
              "681448150  Eastern Time (US & Canada)  \n",
              "681448153  Pacific Time (US & Canada)  \n",
              "681448156  Central Time (US & Canada)  \n",
              "681448158  Pacific Time (US & Canada)  \n",
              "681448159  Pacific Time (US & Canada)  "
            ],
            "text/html": [
              "\n",
              "  <div id=\"df-d4e9943a-948b-49a9-bff3-9104323d814e\">\n",
              "    <div class=\"colab-df-container\">\n",
              "      <div>\n",
              "<style scoped>\n",
              "    .dataframe tbody tr th:only-of-type {\n",
              "        vertical-align: middle;\n",
              "    }\n",
              "\n",
              "    .dataframe tbody tr th {\n",
              "        vertical-align: top;\n",
              "    }\n",
              "\n",
              "    .dataframe thead th {\n",
              "        text-align: right;\n",
              "    }\n",
              "</style>\n",
              "<table border=\"1\" class=\"dataframe\">\n",
              "  <thead>\n",
              "    <tr style=\"text-align: right;\">\n",
              "      <th></th>\n",
              "      <th>_golden</th>\n",
              "      <th>_unit_state</th>\n",
              "      <th>_trusted_judgments</th>\n",
              "      <th>_last_judgment_at</th>\n",
              "      <th>airline_sentiment</th>\n",
              "      <th>airline_sentiment:confidence</th>\n",
              "      <th>negativereason</th>\n",
              "      <th>negativereason:confidence</th>\n",
              "      <th>airline</th>\n",
              "      <th>airline_sentiment_gold</th>\n",
              "      <th>name</th>\n",
              "      <th>negativereason_gold</th>\n",
              "      <th>retweet_count</th>\n",
              "      <th>text</th>\n",
              "      <th>tweet_coord</th>\n",
              "      <th>tweet_created</th>\n",
              "      <th>tweet_id</th>\n",
              "      <th>tweet_location</th>\n",
              "      <th>user_timezone</th>\n",
              "    </tr>\n",
              "    <tr>\n",
              "      <th>_unit_id</th>\n",
              "      <th></th>\n",
              "      <th></th>\n",
              "      <th></th>\n",
              "      <th></th>\n",
              "      <th></th>\n",
              "      <th></th>\n",
              "      <th></th>\n",
              "      <th></th>\n",
              "      <th></th>\n",
              "      <th></th>\n",
              "      <th></th>\n",
              "      <th></th>\n",
              "      <th></th>\n",
              "      <th></th>\n",
              "      <th></th>\n",
              "      <th></th>\n",
              "      <th></th>\n",
              "      <th></th>\n",
              "      <th></th>\n",
              "    </tr>\n",
              "  </thead>\n",
              "  <tbody>\n",
              "    <tr>\n",
              "      <th>681448150</th>\n",
              "      <td>False</td>\n",
              "      <td>finalized</td>\n",
              "      <td>3</td>\n",
              "      <td>2/25/15 5:24</td>\n",
              "      <td>neutral</td>\n",
              "      <td>1.0000</td>\n",
              "      <td>NaN</td>\n",
              "      <td>NaN</td>\n",
              "      <td>Virgin America</td>\n",
              "      <td>NaN</td>\n",
              "      <td>cairdin</td>\n",
              "      <td>NaN</td>\n",
              "      <td>0</td>\n",
              "      <td>@VirginAmerica What @dhepburn said.</td>\n",
              "      <td>NaN</td>\n",
              "      <td>2/24/15 11:35</td>\n",
              "      <td>5.703060e+17</td>\n",
              "      <td>NaN</td>\n",
              "      <td>Eastern Time (US &amp; Canada)</td>\n",
              "    </tr>\n",
              "    <tr>\n",
              "      <th>681448153</th>\n",
              "      <td>False</td>\n",
              "      <td>finalized</td>\n",
              "      <td>3</td>\n",
              "      <td>2/25/15 1:53</td>\n",
              "      <td>positive</td>\n",
              "      <td>0.3486</td>\n",
              "      <td>NaN</td>\n",
              "      <td>0.0000</td>\n",
              "      <td>Virgin America</td>\n",
              "      <td>NaN</td>\n",
              "      <td>jnardino</td>\n",
              "      <td>NaN</td>\n",
              "      <td>0</td>\n",
              "      <td>@VirginAmerica plus you've added commercials t...</td>\n",
              "      <td>NaN</td>\n",
              "      <td>2/24/15 11:15</td>\n",
              "      <td>5.703010e+17</td>\n",
              "      <td>NaN</td>\n",
              "      <td>Pacific Time (US &amp; Canada)</td>\n",
              "    </tr>\n",
              "    <tr>\n",
              "      <th>681448156</th>\n",
              "      <td>False</td>\n",
              "      <td>finalized</td>\n",
              "      <td>3</td>\n",
              "      <td>2/25/15 10:01</td>\n",
              "      <td>neutral</td>\n",
              "      <td>0.6837</td>\n",
              "      <td>NaN</td>\n",
              "      <td>NaN</td>\n",
              "      <td>Virgin America</td>\n",
              "      <td>NaN</td>\n",
              "      <td>yvonnalynn</td>\n",
              "      <td>NaN</td>\n",
              "      <td>0</td>\n",
              "      <td>@VirginAmerica I didn't today... Must mean I n...</td>\n",
              "      <td>NaN</td>\n",
              "      <td>2/24/15 11:15</td>\n",
              "      <td>5.703010e+17</td>\n",
              "      <td>Lets Play</td>\n",
              "      <td>Central Time (US &amp; Canada)</td>\n",
              "    </tr>\n",
              "    <tr>\n",
              "      <th>681448158</th>\n",
              "      <td>False</td>\n",
              "      <td>finalized</td>\n",
              "      <td>3</td>\n",
              "      <td>2/25/15 3:05</td>\n",
              "      <td>negative</td>\n",
              "      <td>1.0000</td>\n",
              "      <td>Bad Flight</td>\n",
              "      <td>0.7033</td>\n",
              "      <td>Virgin America</td>\n",
              "      <td>NaN</td>\n",
              "      <td>jnardino</td>\n",
              "      <td>NaN</td>\n",
              "      <td>0</td>\n",
              "      <td>@VirginAmerica it's really aggressive to blast...</td>\n",
              "      <td>NaN</td>\n",
              "      <td>2/24/15 11:15</td>\n",
              "      <td>5.703010e+17</td>\n",
              "      <td>NaN</td>\n",
              "      <td>Pacific Time (US &amp; Canada)</td>\n",
              "    </tr>\n",
              "    <tr>\n",
              "      <th>681448159</th>\n",
              "      <td>False</td>\n",
              "      <td>finalized</td>\n",
              "      <td>3</td>\n",
              "      <td>2/25/15 5:50</td>\n",
              "      <td>negative</td>\n",
              "      <td>1.0000</td>\n",
              "      <td>Can't Tell</td>\n",
              "      <td>1.0000</td>\n",
              "      <td>Virgin America</td>\n",
              "      <td>NaN</td>\n",
              "      <td>jnardino</td>\n",
              "      <td>NaN</td>\n",
              "      <td>0</td>\n",
              "      <td>@VirginAmerica and it's a really big bad thing...</td>\n",
              "      <td>NaN</td>\n",
              "      <td>2/24/15 11:14</td>\n",
              "      <td>5.703010e+17</td>\n",
              "      <td>NaN</td>\n",
              "      <td>Pacific Time (US &amp; Canada)</td>\n",
              "    </tr>\n",
              "  </tbody>\n",
              "</table>\n",
              "</div>\n",
              "      <button class=\"colab-df-convert\" onclick=\"convertToInteractive('df-d4e9943a-948b-49a9-bff3-9104323d814e')\"\n",
              "              title=\"Convert this dataframe to an interactive table.\"\n",
              "              style=\"display:none;\">\n",
              "        \n",
              "  <svg xmlns=\"http://www.w3.org/2000/svg\" height=\"24px\"viewBox=\"0 0 24 24\"\n",
              "       width=\"24px\">\n",
              "    <path d=\"M0 0h24v24H0V0z\" fill=\"none\"/>\n",
              "    <path d=\"M18.56 5.44l.94 2.06.94-2.06 2.06-.94-2.06-.94-.94-2.06-.94 2.06-2.06.94zm-11 1L8.5 8.5l.94-2.06 2.06-.94-2.06-.94L8.5 2.5l-.94 2.06-2.06.94zm10 10l.94 2.06.94-2.06 2.06-.94-2.06-.94-.94-2.06-.94 2.06-2.06.94z\"/><path d=\"M17.41 7.96l-1.37-1.37c-.4-.4-.92-.59-1.43-.59-.52 0-1.04.2-1.43.59L10.3 9.45l-7.72 7.72c-.78.78-.78 2.05 0 2.83L4 21.41c.39.39.9.59 1.41.59.51 0 1.02-.2 1.41-.59l7.78-7.78 2.81-2.81c.8-.78.8-2.07 0-2.86zM5.41 20L4 18.59l7.72-7.72 1.47 1.35L5.41 20z\"/>\n",
              "  </svg>\n",
              "      </button>\n",
              "      \n",
              "  <style>\n",
              "    .colab-df-container {\n",
              "      display:flex;\n",
              "      flex-wrap:wrap;\n",
              "      gap: 12px;\n",
              "    }\n",
              "\n",
              "    .colab-df-convert {\n",
              "      background-color: #E8F0FE;\n",
              "      border: none;\n",
              "      border-radius: 50%;\n",
              "      cursor: pointer;\n",
              "      display: none;\n",
              "      fill: #1967D2;\n",
              "      height: 32px;\n",
              "      padding: 0 0 0 0;\n",
              "      width: 32px;\n",
              "    }\n",
              "\n",
              "    .colab-df-convert:hover {\n",
              "      background-color: #E2EBFA;\n",
              "      box-shadow: 0px 1px 2px rgba(60, 64, 67, 0.3), 0px 1px 3px 1px rgba(60, 64, 67, 0.15);\n",
              "      fill: #174EA6;\n",
              "    }\n",
              "\n",
              "    [theme=dark] .colab-df-convert {\n",
              "      background-color: #3B4455;\n",
              "      fill: #D2E3FC;\n",
              "    }\n",
              "\n",
              "    [theme=dark] .colab-df-convert:hover {\n",
              "      background-color: #434B5C;\n",
              "      box-shadow: 0px 1px 3px 1px rgba(0, 0, 0, 0.15);\n",
              "      filter: drop-shadow(0px 1px 2px rgba(0, 0, 0, 0.3));\n",
              "      fill: #FFFFFF;\n",
              "    }\n",
              "  </style>\n",
              "\n",
              "      <script>\n",
              "        const buttonEl =\n",
              "          document.querySelector('#df-d4e9943a-948b-49a9-bff3-9104323d814e button.colab-df-convert');\n",
              "        buttonEl.style.display =\n",
              "          google.colab.kernel.accessAllowed ? 'block' : 'none';\n",
              "\n",
              "        async function convertToInteractive(key) {\n",
              "          const element = document.querySelector('#df-d4e9943a-948b-49a9-bff3-9104323d814e');\n",
              "          const dataTable =\n",
              "            await google.colab.kernel.invokeFunction('convertToInteractive',\n",
              "                                                     [key], {});\n",
              "          if (!dataTable) return;\n",
              "\n",
              "          const docLinkHtml = 'Like what you see? Visit the ' +\n",
              "            '<a target=\"_blank\" href=https://colab.research.google.com/notebooks/data_table.ipynb>data table notebook</a>'\n",
              "            + ' to learn more about interactive tables.';\n",
              "          element.innerHTML = '';\n",
              "          dataTable['output_type'] = 'display_data';\n",
              "          await google.colab.output.renderOutput(dataTable, element);\n",
              "          const docLink = document.createElement('div');\n",
              "          docLink.innerHTML = docLinkHtml;\n",
              "          element.appendChild(docLink);\n",
              "        }\n",
              "      </script>\n",
              "    </div>\n",
              "  </div>\n",
              "  "
            ]
          },
          "metadata": {},
          "execution_count": 1
        }
      ],
      "source": [
        "import pandas as pd\n",
        "url = 'https://raw.githubusercontent.com/gbam-ds/FinalProject_IntroPython/main/Airline-Sentiment-2-w-AA.csv'\n",
        "airline = pd.read_csv(url,index_col=0,parse_dates=[0], encoding = \"ISO-8859-1\")\n",
        "airline.head() "
      ]
    },
    {
      "cell_type": "code",
      "execution_count": 2,
      "id": "0ebb3344",
      "metadata": {
        "id": "0ebb3344",
        "outputId": "3e8ad14e-4037-48a4-b36b-4b4736f4066c",
        "colab": {
          "base_uri": "https://localhost:8080/"
        }
      },
      "outputs": [
        {
          "output_type": "execute_result",
          "data": {
            "text/plain": [
              "(14640, 19)"
            ]
          },
          "metadata": {},
          "execution_count": 2
        }
      ],
      "source": [
        "#qtd de observações totais e únicas\n",
        "airline.shape"
      ]
    },
    {
      "cell_type": "code",
      "execution_count": 3,
      "id": "acab22c2",
      "metadata": {
        "id": "acab22c2",
        "outputId": "eb2dfec1-6df5-4c17-e518-293b95e13e48",
        "colab": {
          "base_uri": "https://localhost:8080/"
        }
      },
      "outputs": [
        {
          "output_type": "execute_result",
          "data": {
            "text/plain": [
              "_golden                            bool\n",
              "_unit_state                      object\n",
              "_trusted_judgments                int64\n",
              "_last_judgment_at                object\n",
              "airline_sentiment                object\n",
              "airline_sentiment:confidence    float64\n",
              "negativereason                   object\n",
              "negativereason:confidence       float64\n",
              "airline                          object\n",
              "airline_sentiment_gold           object\n",
              "name                             object\n",
              "negativereason_gold              object\n",
              "retweet_count                     int64\n",
              "text                             object\n",
              "tweet_coord                      object\n",
              "tweet_created                    object\n",
              "tweet_id                        float64\n",
              "tweet_location                   object\n",
              "user_timezone                    object\n",
              "dtype: object"
            ]
          },
          "metadata": {},
          "execution_count": 3
        }
      ],
      "source": [
        "#conhecendo as variáveis\n",
        "airline.dtypes"
      ]
    },
    {
      "cell_type": "code",
      "execution_count": 4,
      "id": "a69054b8",
      "metadata": {
        "id": "a69054b8",
        "outputId": "dae83e3f-edf5-4bca-a8cc-3655d6407063",
        "colab": {
          "base_uri": "https://localhost:8080/"
        }
      },
      "outputs": [
        {
          "output_type": "stream",
          "name": "stdout",
          "text": [
            "negativereason_gold             14608\n",
            "airline_sentiment_gold          14600\n",
            "tweet_coord                     13621\n",
            "negativereason                   5462\n",
            "user_timezone                    4820\n",
            "tweet_location                   4733\n",
            "negativereason:confidence        4118\n",
            "_last_judgment_at                  56\n",
            "airline_sentiment:confidence        0\n",
            "airline_sentiment                   0\n",
            "airline                             0\n",
            "_unit_state                         0\n",
            "name                                0\n",
            "retweet_count                       0\n",
            "text                                0\n",
            "_trusted_judgments                  0\n",
            "tweet_created                       0\n",
            "tweet_id                            0\n",
            "_golden                             0\n",
            "dtype: int64\n"
          ]
        }
      ],
      "source": [
        "#nulo\n",
        "print(airline.isnull().sum().sort_values(ascending = False))"
      ]
    },
    {
      "cell_type": "code",
      "execution_count": 5,
      "id": "609faaee",
      "metadata": {
        "scrolled": true,
        "id": "609faaee",
        "outputId": "4bd27fd5-f9b0-42ae-f59b-9c116756bea8",
        "colab": {
          "base_uri": "https://localhost:8080/",
          "height": 145
        }
      },
      "outputs": [
        {
          "output_type": "execute_result",
          "data": {
            "text/plain": [
              "Empty DataFrame\n",
              "Columns: [_golden, _unit_state, _trusted_judgments, _last_judgment_at, airline_sentiment, airline_sentiment:confidence, negativereason, negativereason:confidence, airline, airline_sentiment_gold, name, negativereason_gold, retweet_count, text, tweet_coord, tweet_created, tweet_id, tweet_location, user_timezone]\n",
              "Index: []"
            ],
            "text/html": [
              "\n",
              "  <div id=\"df-99f55a78-81af-4485-9c17-9610dc2bb79d\">\n",
              "    <div class=\"colab-df-container\">\n",
              "      <div>\n",
              "<style scoped>\n",
              "    .dataframe tbody tr th:only-of-type {\n",
              "        vertical-align: middle;\n",
              "    }\n",
              "\n",
              "    .dataframe tbody tr th {\n",
              "        vertical-align: top;\n",
              "    }\n",
              "\n",
              "    .dataframe thead th {\n",
              "        text-align: right;\n",
              "    }\n",
              "</style>\n",
              "<table border=\"1\" class=\"dataframe\">\n",
              "  <thead>\n",
              "    <tr style=\"text-align: right;\">\n",
              "      <th></th>\n",
              "      <th>_golden</th>\n",
              "      <th>_unit_state</th>\n",
              "      <th>_trusted_judgments</th>\n",
              "      <th>_last_judgment_at</th>\n",
              "      <th>airline_sentiment</th>\n",
              "      <th>airline_sentiment:confidence</th>\n",
              "      <th>negativereason</th>\n",
              "      <th>negativereason:confidence</th>\n",
              "      <th>airline</th>\n",
              "      <th>airline_sentiment_gold</th>\n",
              "      <th>name</th>\n",
              "      <th>negativereason_gold</th>\n",
              "      <th>retweet_count</th>\n",
              "      <th>text</th>\n",
              "      <th>tweet_coord</th>\n",
              "      <th>tweet_created</th>\n",
              "      <th>tweet_id</th>\n",
              "      <th>tweet_location</th>\n",
              "      <th>user_timezone</th>\n",
              "    </tr>\n",
              "    <tr>\n",
              "      <th>_unit_id</th>\n",
              "      <th></th>\n",
              "      <th></th>\n",
              "      <th></th>\n",
              "      <th></th>\n",
              "      <th></th>\n",
              "      <th></th>\n",
              "      <th></th>\n",
              "      <th></th>\n",
              "      <th></th>\n",
              "      <th></th>\n",
              "      <th></th>\n",
              "      <th></th>\n",
              "      <th></th>\n",
              "      <th></th>\n",
              "      <th></th>\n",
              "      <th></th>\n",
              "      <th></th>\n",
              "      <th></th>\n",
              "      <th></th>\n",
              "    </tr>\n",
              "  </thead>\n",
              "  <tbody>\n",
              "  </tbody>\n",
              "</table>\n",
              "</div>\n",
              "      <button class=\"colab-df-convert\" onclick=\"convertToInteractive('df-99f55a78-81af-4485-9c17-9610dc2bb79d')\"\n",
              "              title=\"Convert this dataframe to an interactive table.\"\n",
              "              style=\"display:none;\">\n",
              "        \n",
              "  <svg xmlns=\"http://www.w3.org/2000/svg\" height=\"24px\"viewBox=\"0 0 24 24\"\n",
              "       width=\"24px\">\n",
              "    <path d=\"M0 0h24v24H0V0z\" fill=\"none\"/>\n",
              "    <path d=\"M18.56 5.44l.94 2.06.94-2.06 2.06-.94-2.06-.94-.94-2.06-.94 2.06-2.06.94zm-11 1L8.5 8.5l.94-2.06 2.06-.94-2.06-.94L8.5 2.5l-.94 2.06-2.06.94zm10 10l.94 2.06.94-2.06 2.06-.94-2.06-.94-.94-2.06-.94 2.06-2.06.94z\"/><path d=\"M17.41 7.96l-1.37-1.37c-.4-.4-.92-.59-1.43-.59-.52 0-1.04.2-1.43.59L10.3 9.45l-7.72 7.72c-.78.78-.78 2.05 0 2.83L4 21.41c.39.39.9.59 1.41.59.51 0 1.02-.2 1.41-.59l7.78-7.78 2.81-2.81c.8-.78.8-2.07 0-2.86zM5.41 20L4 18.59l7.72-7.72 1.47 1.35L5.41 20z\"/>\n",
              "  </svg>\n",
              "      </button>\n",
              "      \n",
              "  <style>\n",
              "    .colab-df-container {\n",
              "      display:flex;\n",
              "      flex-wrap:wrap;\n",
              "      gap: 12px;\n",
              "    }\n",
              "\n",
              "    .colab-df-convert {\n",
              "      background-color: #E8F0FE;\n",
              "      border: none;\n",
              "      border-radius: 50%;\n",
              "      cursor: pointer;\n",
              "      display: none;\n",
              "      fill: #1967D2;\n",
              "      height: 32px;\n",
              "      padding: 0 0 0 0;\n",
              "      width: 32px;\n",
              "    }\n",
              "\n",
              "    .colab-df-convert:hover {\n",
              "      background-color: #E2EBFA;\n",
              "      box-shadow: 0px 1px 2px rgba(60, 64, 67, 0.3), 0px 1px 3px 1px rgba(60, 64, 67, 0.15);\n",
              "      fill: #174EA6;\n",
              "    }\n",
              "\n",
              "    [theme=dark] .colab-df-convert {\n",
              "      background-color: #3B4455;\n",
              "      fill: #D2E3FC;\n",
              "    }\n",
              "\n",
              "    [theme=dark] .colab-df-convert:hover {\n",
              "      background-color: #434B5C;\n",
              "      box-shadow: 0px 1px 3px 1px rgba(0, 0, 0, 0.15);\n",
              "      filter: drop-shadow(0px 1px 2px rgba(0, 0, 0, 0.3));\n",
              "      fill: #FFFFFF;\n",
              "    }\n",
              "  </style>\n",
              "\n",
              "      <script>\n",
              "        const buttonEl =\n",
              "          document.querySelector('#df-99f55a78-81af-4485-9c17-9610dc2bb79d button.colab-df-convert');\n",
              "        buttonEl.style.display =\n",
              "          google.colab.kernel.accessAllowed ? 'block' : 'none';\n",
              "\n",
              "        async function convertToInteractive(key) {\n",
              "          const element = document.querySelector('#df-99f55a78-81af-4485-9c17-9610dc2bb79d');\n",
              "          const dataTable =\n",
              "            await google.colab.kernel.invokeFunction('convertToInteractive',\n",
              "                                                     [key], {});\n",
              "          if (!dataTable) return;\n",
              "\n",
              "          const docLinkHtml = 'Like what you see? Visit the ' +\n",
              "            '<a target=\"_blank\" href=https://colab.research.google.com/notebooks/data_table.ipynb>data table notebook</a>'\n",
              "            + ' to learn more about interactive tables.';\n",
              "          element.innerHTML = '';\n",
              "          dataTable['output_type'] = 'display_data';\n",
              "          await google.colab.output.renderOutput(dataTable, element);\n",
              "          const docLink = document.createElement('div');\n",
              "          docLink.innerHTML = docLinkHtml;\n",
              "          element.appendChild(docLink);\n",
              "        }\n",
              "      </script>\n",
              "    </div>\n",
              "  </div>\n",
              "  "
            ]
          },
          "metadata": {},
          "execution_count": 5
        }
      ],
      "source": [
        "#duplicado\n",
        "airline[airline.duplicated()]"
      ]
    },
    {
      "cell_type": "markdown",
      "source": [
        "Verifica-se, portanto, que não há linhas duplicadas."
      ],
      "metadata": {
        "id": "2GhzrdcXj3wc"
      },
      "id": "2GhzrdcXj3wc"
    },
    {
      "cell_type": "markdown",
      "source": [
        "##Entendendo os sentimentos gerais da base"
      ],
      "metadata": {
        "id": "p7i-w6aeXfwA"
      },
      "id": "p7i-w6aeXfwA"
    },
    {
      "cell_type": "code",
      "execution_count": 6,
      "id": "03d0dd59",
      "metadata": {
        "scrolled": true,
        "id": "03d0dd59",
        "outputId": "e33506e2-faca-465b-b069-052191a63a90",
        "colab": {
          "base_uri": "https://localhost:8080/",
          "height": 350
        }
      },
      "outputs": [
        {
          "output_type": "display_data",
          "data": {
            "text/plain": [
              "<Figure size 432x288 with 1 Axes>"
            ],
            "image/png": "[encoded data removed]"
          },
          "metadata": {
            "needs_background": "light"
          }
        },
        {
          "output_type": "execute_result",
          "data": {
            "text/plain": [
              "(<matplotlib.axes._subplots.AxesSubplot at 0x7f6a516fc6d0>,\n",
              " (array([0, 1, 2]), <a list of 3 Text major ticklabel objects>),\n",
              " Text(0.5, 1.0, 'Sentimentos em relação às linhas aéreas'),\n",
              " None)"
            ]
          },
          "metadata": {},
          "execution_count": 6
        }
      ],
      "source": [
        "import matplotlib.pyplot as plt\n",
        "\n",
        "cont = airline['airline_sentiment'].value_counts()\n",
        "cont.plot(kind='bar'), plt.xticks(rotation = 360), plt.title('Sentimentos em relação às linhas aéreas'), plt.show()"
      ]
    },
    {
      "cell_type": "markdown",
      "source": [
        "##Confiança dos sentimentos gerais da base"
      ],
      "metadata": {
        "id": "AdaUYxHLXuLp"
      },
      "id": "AdaUYxHLXuLp"
    },
    {
      "cell_type": "code",
      "execution_count": 7,
      "id": "571f9697",
      "metadata": {
        "scrolled": true,
        "id": "571f9697",
        "outputId": "80f28678-17b5-493d-cbe0-0eeb15d93c32",
        "colab": {
          "base_uri": "https://localhost:8080/",
          "height": 298
        }
      },
      "outputs": [
        {
          "output_type": "display_data",
          "data": {
            "text/plain": [
              "<Figure size 432x288 with 1 Axes>"
            ],
            "image/png": "[encoded data removed]"
          },
          "metadata": {
            "needs_background": "light"
          }
        },
        {
          "output_type": "execute_result",
          "data": {
            "text/plain": [
              "(Text(0.5, 1.0, 'Confiança em relação à analise de sentimentos'), None)"
            ]
          },
          "metadata": {},
          "execution_count": 7
        }
      ],
      "source": [
        "airline['airline_sentiment:confidence'].plot.hist(alpha=0.7);\n",
        "plt.title('Confiança em relação à analise de sentimentos'), plt.show()"
      ]
    },
    {
      "cell_type": "markdown",
      "source": [
        "##Razões gerais de queixa"
      ],
      "metadata": {
        "id": "ro9HCMcAXzgw"
      },
      "id": "ro9HCMcAXzgw"
    },
    {
      "cell_type": "code",
      "execution_count": 8,
      "id": "ae7d1863",
      "metadata": {
        "id": "ae7d1863",
        "outputId": "8e641058-0790-460c-90be-8c22b543fef2",
        "colab": {
          "base_uri": "https://localhost:8080/",
          "height": 429
        }
      },
      "outputs": [
        {
          "output_type": "display_data",
          "data": {
            "text/plain": [
              "<Figure size 432x288 with 1 Axes>"
            ],
            "image/png": "[encoded data removed]"
          },
          "metadata": {
            "needs_background": "light"
          }
        },
        {
          "output_type": "execute_result",
          "data": {
            "text/plain": [
              "(Text(0.5, 1.0, 'Principais razões de queixa'), None)"
            ]
          },
          "metadata": {},
          "execution_count": 8
        }
      ],
      "source": [
        "cont = airline['negativereason'].value_counts()\n",
        "cont.plot(kind='bar')\n",
        "plt.title('Principais razões de queixa'), plt.show()\n"
      ]
    },
    {
      "cell_type": "markdown",
      "source": [
        "##Origem dos tweets"
      ],
      "metadata": {
        "id": "zeLqTZ7CX6NB"
      },
      "id": "zeLqTZ7CX6NB"
    },
    {
      "cell_type": "code",
      "execution_count": 9,
      "id": "b3f0d48b",
      "metadata": {
        "id": "b3f0d48b",
        "outputId": "533f2abd-7e9a-4274-fa51-711638d604b0",
        "colab": {
          "base_uri": "https://localhost:8080/",
          "height": 430
        }
      },
      "outputs": [
        {
          "output_type": "display_data",
          "data": {
            "text/plain": [
              "<Figure size 432x288 with 1 Axes>"
            ],
            "image/png": "[encoded data removed]"
          },
          "metadata": {
            "needs_background": "light"
          }
        },
        {
          "output_type": "execute_result",
          "data": {
            "text/plain": [
              "(Text(0.5, 1.0, 'Top 5 time zones'), None)"
            ]
          },
          "metadata": {},
          "execution_count": 9
        }
      ],
      "source": [
        "#usamos timezone pq apresenta mais dados doq outras variaveis de regiao\n",
        "cont = airline['user_timezone'].value_counts()[:5]\n",
        "cont.plot(kind='bar')\n",
        "plt.title('Top 5 time zones'), plt.show()"
      ]
    },
    {
      "cell_type": "markdown",
      "source": [
        "##Entendendo os sentimentos por companhia"
      ],
      "metadata": {
        "id": "FN22iUzdYU80"
      },
      "id": "FN22iUzdYU80"
    },
    {
      "cell_type": "code",
      "source": [
        "def plot_sub_sentiment(Airline):\n",
        "    df=airline[airline['airline']==Airline]\n",
        "    count=df['airline_sentiment'].value_counts()\n",
        "    Index = [1,2,3]\n",
        "    plt.bar(Index,count)\n",
        "    plt.xticks(Index,['negative','neutral','positive'])\n",
        "    plt.ylabel('Qtd de sentimento')\n",
        "    plt.xlabel('Sentimento')\n",
        "    plt.title('Qtd de sentimentos reportados da '+Airline)\n",
        "\n",
        "plt.figure(1,figsize=(20, 12))\n",
        "plt.subplot(231)\n",
        "plot_sub_sentiment('US Airways')\n",
        "plt.subplot(232)\n",
        "plot_sub_sentiment('United')\n",
        "plt.subplot(233)\n",
        "plot_sub_sentiment('American')\n",
        "plt.subplot(234)\n",
        "plot_sub_sentiment('Southwest')\n",
        "plt.subplot(235)\n",
        "plot_sub_sentiment('Delta')\n",
        "plt.subplot(236)\n",
        "plot_sub_sentiment('Virgin America')"
      ],
      "metadata": {
        "colab": {
          "base_uri": "https://localhost:8080/",
          "height": 589
        },
        "id": "emhqKDywYbDX",
        "outputId": "0bd0845a-c699-4565-f5ae-9c108bb8ef0c"
      },
      "id": "emhqKDywYbDX",
      "execution_count": 12,
      "outputs": [
        {
          "output_type": "display_data",
          "data": {
            "text/plain": [
              "<Figure size 1440x864 with 6 Axes>"
            ],
            "image/png": "[encoded data removed]"
          },
          "metadata": {
            "needs_background": "light"
          }
        }
      ]
    },
    {
      "cell_type": "markdown",
      "source": [
        "##Entendendo as razões de queixa por companhia"
      ],
      "metadata": {
        "id": "AYTOsraCedQJ"
      },
      "id": "AYTOsraCedQJ"
    },
    {
      "cell_type": "markdown",
      "source": [
        "NB: durante a realização desta análise, percebemos que o agrupamento de todas as companhias prejudicaria a visualização. Decidimos, portanto, dividir o plot em duas fases, como verá a seguir."
      ],
      "metadata": {
        "id": "CtJZAbb6ejdV"
      },
      "id": "CtJZAbb6ejdV"
    },
    {
      "cell_type": "markdown",
      "source": [
        ""
      ],
      "metadata": {
        "id": "7CoIs5xSftV0"
      },
      "id": "7CoIs5xSftV0"
    },
    {
      "cell_type": "code",
      "source": [
        "#quantificando as queixas para cada companhia\n",
        "\n",
        "qtd_negative=dict(airline['negativereason'].value_counts(sort=False))\n",
        "def qtd_negative(Airline):\n",
        "    if Airline=='All':\n",
        "        df=airline\n",
        "    else:\n",
        "        df=airline[airline['airline']==Airline]\n",
        "    count=dict(df['negativereason'].value_counts())\n",
        "    Unique_reason=list(airline['negativereason'].unique())\n",
        "    Unique_reason=[x for x in Unique_reason if str(x) != 'nan']\n",
        "    Reason_frame=pd.DataFrame({'Reasons':Unique_reason})\n",
        "    Reason_frame['count']=Reason_frame['Reasons'].apply(lambda x: count[x])\n",
        "    return Reason_frame"
      ],
      "metadata": {
        "id": "_-CQelGtbrN1"
      },
      "id": "_-CQelGtbrN1",
      "execution_count": 26,
      "outputs": []
    },
    {
      "cell_type": "code",
      "source": [
        "#definindo o plot\n",
        "\n",
        "def plot_reason(Airline):\n",
        "    df = qtd_negative(Airline)\n",
        "    count=df['count']\n",
        "    Index = range(1,(len(df)+1))\n",
        "    plt.bar(Index,count)\n",
        "    plt.xticks(Index,df['Reasons'],rotation=90)\n",
        "    plt.ylabel('Qtd de queixa')\n",
        "    plt.xlabel('Queixa')\n",
        "    plt.title('Fontes de queixa da '+Airline)"
      ],
      "metadata": {
        "id": "ZyHvIubIdu1O"
      },
      "id": "ZyHvIubIdu1O",
      "execution_count": 27,
      "outputs": []
    },
    {
      "cell_type": "code",
      "source": [
        "#plotando 1o grupo\n",
        "plt.figure(1,figsize=(15, 10))\n",
        "plt.subplot(231)\n",
        "plot_reason('US Airways')\n",
        "plt.subplot(232)\n",
        "plot_reason('United')\n",
        "plt.subplot(233)\n",
        "plot_reason('American')\n"
      ],
      "metadata": {
        "colab": {
          "base_uri": "https://localhost:8080/",
          "height": 455
        },
        "id": "4E07Am4Gd4o1",
        "outputId": "a822936e-d85e-4c41-ac1e-f96974332f39"
      },
      "id": "4E07Am4Gd4o1",
      "execution_count": 33,
      "outputs": [
        {
          "output_type": "display_data",
          "data": {
            "text/plain": [
              "<Figure size 1080x720 with 3 Axes>"
            ],
            "image/png": "[encoded data removed]"
          },
          "metadata": {
            "needs_background": "light"
          }
        }
      ]
    },
    {
      "cell_type": "markdown",
      "source": [
        "Customer Service é o principal problema para as empresas do 1o grupo, implicando em necessidade de revisão da atuação com a área de Consumer Experience. Um fator que consideramos interessante é que a terceira razão de queixa para a United, ao contrário das demais, é a Lost Luggage, implicando em necessidade de revisão da atuação com a área de Operações."
      ],
      "metadata": {
        "id": "-07KSFROg8WL"
      },
      "id": "-07KSFROg8WL"
    },
    {
      "cell_type": "code",
      "source": [
        "#plotando 2o grupo\n",
        "plt.figure(1,figsize=(15, 10))\n",
        "plt.subplot(234)\n",
        "plot_reason('Southwest')\n",
        "plt.subplot(235)\n",
        "plot_reason('Delta')\n",
        "plt.subplot(236)\n",
        "plot_reason('Virgin America')"
      ],
      "metadata": {
        "colab": {
          "base_uri": "https://localhost:8080/",
          "height": 455
        },
        "id": "md9MSaIceXrQ",
        "outputId": "52885074-f83c-4900-9ff9-e02d0cef23e8"
      },
      "id": "md9MSaIceXrQ",
      "execution_count": 34,
      "outputs": [
        {
          "output_type": "display_data",
          "data": {
            "text/plain": [
              "<Figure size 1080x720 with 3 Axes>"
            ],
            "image/png": "[encoded data removed]"
          },
          "metadata": {
            "needs_background": "light"
          }
        }
      ]
    },
    {
      "cell_type": "markdown",
      "source": [
        "Ao contrário do 1o grupo, no 2o, Customer Service não é consensualmente o maior problema. No entanto, para Delta, o maior problema é Late Flight. Além disso, destaca-se que Cancelled Flight e Flight Booking são o segundo maior problema de Southwest e Virgin America, respectivamente."
      ],
      "metadata": {
        "id": "cx2F69YhiCHg"
      },
      "id": "cx2F69YhiCHg"
    },
    {
      "cell_type": "markdown",
      "source": [
        "##Sentimento e retweet"
      ],
      "metadata": {
        "id": "FKAb-afQkUFl"
      },
      "id": "FKAb-afQkUFl"
    },
    {
      "cell_type": "markdown",
      "source": [
        "Posts com teor negativo são, em geral, mais retweetados do que posts com teor positivo?\n",
        "\n",
        "Será verdade que indivíduos tendem a se mobilizar mais quando estão perdendo do que quando estão se beneficiando de algo?"
      ],
      "metadata": {
        "id": "mZHbBoz06h9S"
      },
      "id": "mZHbBoz06h9S"
    },
    {
      "cell_type": "code",
      "source": [
        "# Queremos analisar se tweets com teor negativo são mais compartilhados, em geral\n",
        "negative = airline[(airline.airline_sentiment == \"negative\")]\n",
        "y = negative[\"retweet_count\"].mean()\n",
        "print(\"A média de retweets para cada tweet negativo é:\", y)"
      ],
      "metadata": {
        "colab": {
          "base_uri": "https://localhost:8080/"
        },
        "outputId": "d80f8e74-bc02-440f-e356-81ec95565956",
        "id": "mJqByDOB5Wyt"
      },
      "execution_count": 38,
      "outputs": [
        {
          "output_type": "stream",
          "name": "stdout",
          "text": [
            "A média de retweets para cada tweet negativo é: 0.09337546306384834\n"
          ]
        }
      ],
      "id": "mJqByDOB5Wyt"
    },
    {
      "cell_type": "code",
      "source": [
        "positive = airline[(airline.airline_sentiment == \"positive\")]\n",
        "x = positive[\"retweet_count\"].mean()\n",
        "print(\"A média de retweets para cada tweet positivo é:\", x)\n"
      ],
      "metadata": {
        "colab": {
          "base_uri": "https://localhost:8080/"
        },
        "outputId": "b2fb26c9-b56f-48d3-faf1-35a3df53a909",
        "id": "qm7HU6nd5etJ"
      },
      "execution_count": 39,
      "outputs": [
        {
          "output_type": "stream",
          "name": "stdout",
          "text": [
            "A média de retweets para cada tweet positivo é: 0.06940330088870081\n"
          ]
        }
      ],
      "id": "qm7HU6nd5etJ"
    },
    {
      "cell_type": "code",
      "source": [
        "data = {'Tipo': ['Positivo', 'Negativo'],\n",
        "        'Média de Retweets': [x, y]}\n",
        "data = pd.DataFrame(data)\n",
        "data        "
      ],
      "metadata": {
        "colab": {
          "base_uri": "https://localhost:8080/",
          "height": 112
        },
        "outputId": "62449f9e-a4f2-4840-d49a-bb1876004c06",
        "id": "ZnnRdnex5u01"
      },
      "execution_count": 40,
      "outputs": [
        {
          "output_type": "execute_result",
          "data": {
            "text/plain": [
              "       Tipo  Média de Retweets\n",
              "0  Positivo           0.069403\n",
              "1  Negativo           0.093375"
            ],
            "text/html": [
              "\n",
              "  <div id=\"df-7363acc5-6f9a-4e8a-8573-7039bfeeffa2\">\n",
              "    <div class=\"colab-df-container\">\n",
              "      <div>\n",
              "<style scoped>\n",
              "    .dataframe tbody tr th:only-of-type {\n",
              "        vertical-align: middle;\n",
              "    }\n",
              "\n",
              "    .dataframe tbody tr th {\n",
              "        vertical-align: top;\n",
              "    }\n",
              "\n",
              "    .dataframe thead th {\n",
              "        text-align: right;\n",
              "    }\n",
              "</style>\n",
              "<table border=\"1\" class=\"dataframe\">\n",
              "  <thead>\n",
              "    <tr style=\"text-align: right;\">\n",
              "      <th></th>\n",
              "      <th>Tipo</th>\n",
              "      <th>Média de Retweets</th>\n",
              "    </tr>\n",
              "  </thead>\n",
              "  <tbody>\n",
              "    <tr>\n",
              "      <th>0</th>\n",
              "      <td>Positivo</td>\n",
              "      <td>0.069403</td>\n",
              "    </tr>\n",
              "    <tr>\n",
              "      <th>1</th>\n",
              "      <td>Negativo</td>\n",
              "      <td>0.093375</td>\n",
              "    </tr>\n",
              "  </tbody>\n",
              "</table>\n",
              "</div>\n",
              "      <button class=\"colab-df-convert\" onclick=\"convertToInteractive('df-7363acc5-6f9a-4e8a-8573-7039bfeeffa2')\"\n",
              "              title=\"Convert this dataframe to an interactive table.\"\n",
              "              style=\"display:none;\">\n",
              "        \n",
              "  <svg xmlns=\"http://www.w3.org/2000/svg\" height=\"24px\"viewBox=\"0 0 24 24\"\n",
              "       width=\"24px\">\n",
              "    <path d=\"M0 0h24v24H0V0z\" fill=\"none\"/>\n",
              "    <path d=\"M18.56 5.44l.94 2.06.94-2.06 2.06-.94-2.06-.94-.94-2.06-.94 2.06-2.06.94zm-11 1L8.5 8.5l.94-2.06 2.06-.94-2.06-.94L8.5 2.5l-.94 2.06-2.06.94zm10 10l.94 2.06.94-2.06 2.06-.94-2.06-.94-.94-2.06-.94 2.06-2.06.94z\"/><path d=\"M17.41 7.96l-1.37-1.37c-.4-.4-.92-.59-1.43-.59-.52 0-1.04.2-1.43.59L10.3 9.45l-7.72 7.72c-.78.78-.78 2.05 0 2.83L4 21.41c.39.39.9.59 1.41.59.51 0 1.02-.2 1.41-.59l7.78-7.78 2.81-2.81c.8-.78.8-2.07 0-2.86zM5.41 20L4 18.59l7.72-7.72 1.47 1.35L5.41 20z\"/>\n",
              "  </svg>\n",
              "      </button>\n",
              "      \n",
              "  <style>\n",
              "    .colab-df-container {\n",
              "      display:flex;\n",
              "      flex-wrap:wrap;\n",
              "      gap: 12px;\n",
              "    }\n",
              "\n",
              "    .colab-df-convert {\n",
              "      background-color: #E8F0FE;\n",
              "      border: none;\n",
              "      border-radius: 50%;\n",
              "      cursor: pointer;\n",
              "      display: none;\n",
              "      fill: #1967D2;\n",
              "      height: 32px;\n",
              "      padding: 0 0 0 0;\n",
              "      width: 32px;\n",
              "    }\n",
              "\n",
              "    .colab-df-convert:hover {\n",
              "      background-color: #E2EBFA;\n",
              "      box-shadow: 0px 1px 2px rgba(60, 64, 67, 0.3), 0px 1px 3px 1px rgba(60, 64, 67, 0.15);\n",
              "      fill: #174EA6;\n",
              "    }\n",
              "\n",
              "    [theme=dark] .colab-df-convert {\n",
              "      background-color: #3B4455;\n",
              "      fill: #D2E3FC;\n",
              "    }\n",
              "\n",
              "    [theme=dark] .colab-df-convert:hover {\n",
              "      background-color: #434B5C;\n",
              "      box-shadow: 0px 1px 3px 1px rgba(0, 0, 0, 0.15);\n",
              "      filter: drop-shadow(0px 1px 2px rgba(0, 0, 0, 0.3));\n",
              "      fill: #FFFFFF;\n",
              "    }\n",
              "  </style>\n",
              "\n",
              "      <script>\n",
              "        const buttonEl =\n",
              "          document.querySelector('#df-7363acc5-6f9a-4e8a-8573-7039bfeeffa2 button.colab-df-convert');\n",
              "        buttonEl.style.display =\n",
              "          google.colab.kernel.accessAllowed ? 'block' : 'none';\n",
              "\n",
              "        async function convertToInteractive(key) {\n",
              "          const element = document.querySelector('#df-7363acc5-6f9a-4e8a-8573-7039bfeeffa2');\n",
              "          const dataTable =\n",
              "            await google.colab.kernel.invokeFunction('convertToInteractive',\n",
              "                                                     [key], {});\n",
              "          if (!dataTable) return;\n",
              "\n",
              "          const docLinkHtml = 'Like what you see? Visit the ' +\n",
              "            '<a target=\"_blank\" href=https://colab.research.google.com/notebooks/data_table.ipynb>data table notebook</a>'\n",
              "            + ' to learn more about interactive tables.';\n",
              "          element.innerHTML = '';\n",
              "          dataTable['output_type'] = 'display_data';\n",
              "          await google.colab.output.renderOutput(dataTable, element);\n",
              "          const docLink = document.createElement('div');\n",
              "          docLink.innerHTML = docLinkHtml;\n",
              "          element.appendChild(docLink);\n",
              "        }\n",
              "      </script>\n",
              "    </div>\n",
              "  </div>\n",
              "  "
            ]
          },
          "metadata": {},
          "execution_count": 40
        }
      ],
      "id": "ZnnRdnex5u01"
    },
    {
      "cell_type": "code",
      "source": [
        "data = {'Positivo':x, 'Negativo':y}\n",
        "retweets = list(data.keys())\n",
        "values = list(data.values())\n",
        "  \n",
        "fig = plt.figure(figsize = (10, 5))\n",
        " \n",
        "# creating the bar plot\n",
        "plt.bar(retweets, values, color ='steelblue',\n",
        "        width = 0.4)\n",
        " \n",
        "plt.xlabel(\"Sentimento do Tweet\")\n",
        "plt.ylabel(\"Média de Retweets\")\n",
        "plt.title(\"Média de compartilhamentos para cada tweet segundo a classificação de sentimentos\")\n",
        "plt.show()"
      ],
      "metadata": {
        "colab": {
          "base_uri": "https://localhost:8080/",
          "height": 350
        },
        "outputId": "0e2d4f77-541e-4a24-b7c2-8ae8cbbd3deb",
        "id": "9noVDYus5-89"
      },
      "execution_count": 41,
      "outputs": [
        {
          "output_type": "display_data",
          "data": {
            "text/plain": [
              "<Figure size 720x360 with 1 Axes>"
            ],
            "image/png": "[encoded data removed]"
          },
          "metadata": {
            "needs_background": "light"
          }
        }
      ],
      "id": "9noVDYus5-89"
    },
    {
      "cell_type": "markdown",
      "source": [
        "A análise feita acima permite observar que os tweets classificados como \"negativos\" são, em média, mais compartilhados do que os tweets com teor de conteúdo considerado \"positivo\". Isso corrobora a hipótese segundo a qual usuários, em geral, possuem mais propensidade a se mobilizarem quando estão perdendo ou sendo prejudicados do que quando estão ganhando ou se beneficiando de algum fator."
      ],
      "metadata": {
        "id": "sYX-X16N73u0"
      },
      "id": "sYX-X16N73u0"
    },
    {
      "cell_type": "markdown",
      "source": [
        "##Nosso sentimento"
      ],
      "metadata": {
        "id": "9lvcLbQXkn9S"
      },
      "id": "9lvcLbQXkn9S"
    },
    {
      "cell_type": "markdown",
      "source": [
        "Decidimos usar o modelo de análise de texto como sentimento visto em sala de aula para comparar com a categorização feita pela própria base de dados."
      ],
      "metadata": {
        "id": "j2anebgalB3C"
      },
      "id": "j2anebgalB3C"
    },
    {
      "cell_type": "code",
      "execution_count": 42,
      "id": "21cdb2b0",
      "metadata": {
        "id": "21cdb2b0"
      },
      "outputs": [],
      "source": [
        "from textblob import TextBlob,Word\n",
        "\n",
        "def polarity(x):\n",
        "  try:\n",
        "      return TextBlob(x).sentiment[0]\n",
        "  except:\n",
        "        return 9"
      ]
    },
    {
      "cell_type": "code",
      "source": [
        "sentiments = airline[\"text\"].apply(lambda x: polarity(x))\n",
        "sentiments.hist();\n",
        "plt.title('Análise de sentimentos da base de dados completa'), plt.show()\n",
        "import statistics\n",
        "x = statistics.mean(sentiments)\n",
        "print(\"A média da análise de sentimentos é:\", x)"
      ],
      "metadata": {
        "colab": {
          "base_uri": "https://localhost:8080/",
          "height": 298
        },
        "id": "Gex9NMYygFRc",
        "outputId": "d128803c-149c-4a30-a6ef-5643079e3af8"
      },
      "id": "Gex9NMYygFRc",
      "execution_count": 46,
      "outputs": [
        {
          "output_type": "display_data",
          "data": {
            "text/plain": [
              "<Figure size 432x288 with 1 Axes>"
            ],
            "image/png": "[encoded data removed]"
          },
          "metadata": {
            "needs_background": "light"
          }
        },
        {
          "output_type": "stream",
          "name": "stdout",
          "text": [
            "A média da análise de sentimentos é: 0.048857191173908146\n"
          ]
        }
      ]
    },
    {
      "cell_type": "markdown",
      "source": [
        "Vemos que, na média, o modelo rotula que os tweets foram neutros (0.04). No entanto, é difícil de dizer se tem mais textos neutros ou positivos. Acreditamos que essa dificuldade se dá, sobretudo, em razão da alta quantidade de colunas do histograma."
      ],
      "metadata": {
        "id": "VXNcumdFlhEv"
      },
      "id": "VXNcumdFlhEv"
    },
    {
      "cell_type": "code",
      "source": [
        "#forçando analise em negativo, neutro e positivo\n",
        "sentiments = airline[\"text\"].apply(lambda x: polarity(x))\n",
        "sentiments.hist(bins=3);"
      ],
      "metadata": {
        "colab": {
          "base_uri": "https://localhost:8080/",
          "height": 265
        },
        "id": "amp7gmXzkYBC",
        "outputId": "40fedd38-8955-4320-9a1d-6d017cb746e9"
      },
      "id": "amp7gmXzkYBC",
      "execution_count": 44,
      "outputs": [
        {
          "output_type": "display_data",
          "data": {
            "text/plain": [
              "<Figure size 432x288 with 1 Axes>"
            ],
            "image/png": "[encoded data removed]"
          },
          "metadata": {
            "needs_background": "light"
          }
        }
      ]
    },
    {
      "cell_type": "markdown",
      "source": [
        "Com essa visualização, é mais fácil de perceber que o modelo rotula mais tweets como neutros."
      ],
      "metadata": {
        "id": "4U8XhCM1nEot"
      },
      "id": "4U8XhCM1nEot"
    },
    {
      "cell_type": "code",
      "source": [
        "import matplotlib.pyplot as plt"
      ],
      "metadata": {
        "id": "V7mhumnAyHlE"
      },
      "id": "V7mhumnAyHlE",
      "execution_count": 45,
      "outputs": []
    },
    {
      "cell_type": "markdown",
      "source": [
        "Resultados diferentes: mais neutros, mais positivos. Intuitivamente, o encontrado anterior faz mais sentido..."
      ],
      "metadata": {
        "id": "qiq2Ol2Fkngj"
      },
      "id": "qiq2Ol2Fkngj"
    },
    {
      "cell_type": "code",
      "source": [
        "# testando a robustez e eficiência do algoritmo de análise de sentimentos\n",
        "\n",
        "# filtrando somente os tweets originalmente considerados positivos\n",
        "positive = airline[(airline.airline_sentiment == \"positive\")]\n",
        "\n",
        "# aplicando a análise de sentimentos\n",
        "sentiments = positive[\"text\"].apply(lambda x: polarity(x))\n",
        "sentiments.hist();\n",
        "plt.title('Análise de sentimentos positivos'), plt.show()\n",
        "\n",
        "import statistics\n",
        "x = statistics.mean(sentiments)\n",
        "print(\"A média da análise de sentimentos positivos é:\", x)"
      ],
      "metadata": {
        "id": "zaqAh0SNv0oV"
      },
      "id": "zaqAh0SNv0oV",
      "execution_count": null,
      "outputs": []
    },
    {
      "cell_type": "markdown",
      "source": [
        "A maior parte da distribuição está concentrada na direita.\n",
        "\n",
        "O gráfico acima, portanto, permite identificar que a maior parte dos tweets classificados originamente como positivos também tende a ser considerada positiva pela análise de sentimentos.\n",
        "\n"
      ],
      "metadata": {
        "id": "4zlx97z-4Eqv"
      },
      "id": "4zlx97z-4Eqv"
    },
    {
      "cell_type": "code",
      "source": [
        "# testando a robustez e eficiência do algoritmo\n",
        "\n",
        "# filtrando somente os tweets originalmente considerados negativos\n",
        "negative = airline[(airline.airline_sentiment == \"negative\")]\n",
        "\n",
        "# aplicando a análise de sentimentos\n",
        "sentiments = negative[\"text\"].apply(lambda x: polarity(x))\n",
        "sentiments.hist();\n",
        "plt.title('Análise de sentimentos negativos'), plt.show()\n",
        "import statistics\n",
        "x = statistics.mean(sentiments)\n",
        "print(\"A média da análise de sentimentos negativos é:\", x)\n",
        "\n",
        "# eficiência aparentemente menor se comparada aos sentimentos positivos"
      ],
      "metadata": {
        "id": "BysDQrRCyx_A"
      },
      "id": "BysDQrRCyx_A",
      "execution_count": null,
      "outputs": []
    },
    {
      "cell_type": "markdown",
      "source": [
        "A média aritmética para os tweets negativos é menor do que zero. Isso indica que, na média, tweets originalmente classificados como negativos também foram considerados negativos pela nossa análise de sentimentos.\n",
        "\n",
        "No entanto, o histograma acima evidencia que alguns valores estão acima de 0.5 e portanto seriam considerados \"positivos\" pela nossa análise de sentimentos, o que contradiz a classificação original (\"negativa\")."
      ],
      "metadata": {
        "id": "_iuBwdUg7cvG"
      },
      "id": "_iuBwdUg7cvG"
    },
    {
      "cell_type": "markdown",
      "source": [
        "Para tentar entender por que isso aconteceu, primeiro vamos filtrar os tweets originalmente classificados como positivos mas que tiveram valor negativo em nossa análise de sentimentos.\n",
        "\n",
        "De forma análoga, faremos uma segunda análise na qual filtraremos os tweets originalmente classificados como negativos mas que tiveram valor positivo em nossa análise de sentimentos."
      ],
      "metadata": {
        "id": "SABewbzs9wAc"
      },
      "id": "SABewbzs9wAc"
    },
    {
      "cell_type": "code",
      "source": [
        "# filtrando somente tweets classificados como positivos\n",
        "positive = airline[(airline.airline_sentiment == \"positive\")]\n",
        "\n",
        "# efetuando a análise de sentimentos\n",
        "sentiments = positive[\"text\"].apply(lambda x: polarity(x))\n",
        "\n",
        "# concatenando a análise de sentimentos com a base de dados original\n",
        "df = pd.merge(positive, sentiments, on = '_unit_id')\n",
        "\n",
        "# renomeando a coluna de sentimentos e texto para evitar confusão\n",
        "df = df.rename(columns={'text_y': 'sentiment', 'text_x': 'text'})\n",
        "\n",
        "# filtrando tweets com análise de sentimentos negativa\n",
        "filtered = df[df['sentiment'] < 0]\n",
        "data = filtered[[\"text\", \"airline_sentiment\", \"sentiment\"]]\n",
        "data"
      ],
      "metadata": {
        "id": "AVXJd2xLOBt8"
      },
      "id": "AVXJd2xLOBt8",
      "execution_count": null,
      "outputs": []
    },
    {
      "cell_type": "markdown",
      "source": [
        "\n",
        "Repare que no tweet \"ID 681448621\" (segunda linha da tabela acima), o usuário escreveu a palavra \"killed\", o que gerou uma ambiguidade.\n",
        "\n",
        "Essa palavra pode ser interpretada de diferentes modos a depender do contexto.\n",
        "\n",
        "Que pode ser positivo, exemplo: \"you guys killed it!\";(\"vocês arrasaram!\")\n",
        "\n",
        "Ou negativo. Exemplo: \"You killed my plans!\"; (\"vocês destruíram meus planos!\")\n",
        "\n",
        "Provavelmente, esta ambiguidade semântica causou divergências entre a classificação original da base e aquela feita pelo algoritmo."
      ],
      "metadata": {
        "id": "SbU1M2YN_NvJ"
      },
      "id": "SbU1M2YN_NvJ"
    },
    {
      "cell_type": "markdown",
      "source": [
        "Além disso, note que o tweet ID 681679688 (penúltima linha da tabela acima) apresenta a junção de palavras positivas com negativas (\"mad\" - que significa \"raivoso, enfurecido\", com a palavra \"love\", que é \"amor\" em português.)\n",
        "\n",
        "Ao que tudo indica, a mescla entre palavras de conotação positiva e negativa em uma mesma sentença (neste caso, \"mad love\"), provavelmente causou a divergência entre a classificação original do sentimento e a análise feita pelo algoritmo."
      ],
      "metadata": {
        "id": "73EnyesiAlZK"
      },
      "id": "73EnyesiAlZK"
    },
    {
      "cell_type": "code",
      "source": [
        "# filtrando os tweets classificados como negativos\n",
        "negative = airline[(airline.airline_sentiment == \"negative\")]\n",
        "\n",
        "# aplicando a análise de sentimentos\n",
        "sentiments = negative[\"text\"].apply(lambda x: polarity(x))\n",
        "\n",
        "# concatenando a análise de sentimentos com a base original\n",
        "df = pd.merge(negative, sentiments, on = '_unit_id')\n",
        "\n",
        "# renomeando a coluna de sentimentos e texto para evitar confusão\n",
        "df = df.rename(columns={'text_y': 'sentiment', 'text_x': 'text'})\n",
        "\n",
        "# agora vamos ver quais tweets foram originalmente classificados como negativos mas nosso algoritmo considera-os como positivos\n",
        "\n",
        "# Aqui, partimos de pressuposto que os tweets maiores ou iguais a 0.5 são positivos\n",
        "\n",
        "# filtrando os tweets com análise de sentimentos maior do que 0.5\n",
        "filt = df[df['sentiment'] > 0.5]\n",
        "data = filt[[\"text\", \"airline_sentiment\", \"sentiment\"]]\n",
        "data"
      ],
      "metadata": {
        "id": "QaUOOF8oOLgE"
      },
      "id": "QaUOOF8oOLgE",
      "execution_count": null,
      "outputs": []
    },
    {
      "cell_type": "markdown",
      "source": [
        "Repare que o tweet de ID 681449259 (quinta linha da tabela acima) possui a seguinte sentença: \" yes, but still now answers.\"\n",
        "\n",
        "Aparentemente, o próprio usuário cometeu um typo ao publicar o seu tweet. O usuário, nesse sentido, acabou escrevendo \"now\" ao invés de \"no answers\" (\"sem respostas\", em português), o que sinaliza uma reclamação direcionada à companhia aérea.\n",
        "\n",
        "Ao que tudo indica, isso fez com que o algoritmo retornasse um valor positivo, ainda que a frase possua, originalmente, uma conotação negativa.\n",
        "\n",
        "Portanto, podemos dizer que eventuais typos tendem a interferir na eficiência da análise de sentimentos."
      ],
      "metadata": {
        "id": "vwGDSvw5CdgZ"
      },
      "id": "vwGDSvw5CdgZ"
    }
  ],
  "metadata": {
    "hide_input": false,
    "kernelspec": {
      "display_name": "Python 3",
      "language": "python",
      "name": "python3"
    },
    "language_info": {
      "codemirror_mode": {
        "name": "ipython",
        "version": 3
      },
      "file_extension": ".py",
      "mimetype": "text/x-python",
      "name": "python",
      "nbconvert_exporter": "python",
      "pygments_lexer": "ipython3",
      "version": "3.8.8"
    },
    "toc": {
      "base_numbering": 1,
      "nav_menu": {},
      "number_sections": true,
      "sideBar": true,
      "skip_h1_title": false,
      "title_cell": "Table of Contents",
      "title_sidebar": "Contents",
      "toc_cell": false,
      "toc_position": {},
      "toc_section_display": true,
      "toc_window_display": false
    },
    "colab": {
      "name": "Trabalho Prático - Parte 1 - Grupo X.ipynb",
      "provenance": [],
      "collapsed_sections": [],
      "toc_visible": true,
      "include_colab_link": true
    }
  },
  "nbformat": 4,
  "nbformat_minor": 5
}
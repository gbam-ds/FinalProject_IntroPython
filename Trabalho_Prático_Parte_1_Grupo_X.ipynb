{
  "cells": [
    {
      "cell_type": "markdown",
      "metadata": {
        "id": "view-in-github",
        "colab_type": "text"
      },
      "source": [
        "<a href=\"https://colab.research.google.com/github/gbam-ds/FinalProject_IntroPython/blob/main/Trabalho_Pr%C3%A1tico_Parte_1_Grupo_X.ipynb\" target=\"_parent\"><img src=\"https://colab.research.google.com/assets/colab-badge.svg\" alt=\"Open In Colab\"/></a>"
      ]
    },
    {
      "cell_type": "markdown",
      "id": "f871ef43",
      "metadata": {
        "id": "f871ef43"
      },
      "source": [
        "# Trabalho Prático - Análise Exploratória\n",
        "\n",
        "\n",
        "**Contextualização:** Hoje é o seu primeiro dia em uma grande multinacional. Sabendo da sua expertise em programação Python e análise de dados, seu coordenador te pede para analisar uma base de dados e apresentar alguns dos insights obtidos. Ele também gostaria de entender um pouco mais sobre programação, então você poderá mostrar algumas das principais tarefas que fez para chegar às conclusões. \n",
        "\n",
        "**Objetivo:** O objetivo deste trabalho é praticar alguns dos conceitos vistos em sala de aula. Vocês deverão fazer a coleta de uma base de dados e explorá-la usando os métodos da biblioteca pandas e algumas visualizações.\n",
        "\n",
        "**Apresentação:** O grupo deverá apresentar utilizando o Jupyter Notebook e terá até 10 minutos para fazer a apresentação. \n"
      ]
    },
    {
      "cell_type": "markdown",
      "id": "26700065",
      "metadata": {
        "id": "26700065"
      },
      "source": [
        "**Algumas perguntas que devem ser respondidas:**\n",
        "\n",
        "* Quantidade de observações totais no conjunto de dados\n",
        "* Quantidade de observações únicas (visão usuário)\n",
        "* Quantidade de variaveis no conjunto de dados\n",
        "* Se existem valores duplicados ou nulos e quantos são\n",
        "\n",
        "Usem visualizações o maximo de vezes que for possível"
      ]
    },
    {
      "cell_type": "markdown",
      "id": "38783b17",
      "metadata": {
        "id": "38783b17"
      },
      "source": [
        "**Dicas para uma boa análise exploratória** \n",
        "\n",
        "* Faça perguntas aos dados. O que é possível descobrir com essas informações? \n",
        "* Procure referências sobre o assunto \n",
        "* Não tenha medo de errar! Pode ser que você tenha uma hipótese que não será identificada nesses dados, isso faz parte do processo! "
      ]
    },
    {
      "cell_type": "markdown",
      "id": "b334944b",
      "metadata": {
        "id": "b334944b"
      },
      "source": [
        "Datasets disponíveis: \n",
        "        \n",
        "* Covid-19: https://www.kaggle.com/datasets/bobohe/vaccine-tweet-and-mention-network?select=vaccine_original.csv\n",
        "\n",
        "\n",
        "* Airline Twitter: https://data.world/crowdflower/airline-twitter-sentiment\n",
        "\n",
        "\n",
        "* Eleições Equador: https://www.kaggle.com/datasets/theworstone/sentimentanalysisecuador2021\n",
        "\n",
        "\n",
        "* Tokyo Olimpycs: https://www.kaggle.com/datasets/gpreda/tokyo-olympics-2020-tweets\n"
      ]
    },
    {
      "cell_type": "markdown",
      "id": "90c7d911",
      "metadata": {
        "id": "90c7d911"
      },
      "source": [
        "## Em relação a Airline"
      ]
    },
    {
      "cell_type": "code",
      "execution_count": null,
      "id": "3dbf8212",
      "metadata": {
        "colab": {
          "base_uri": "https://localhost:8080/",
          "height": 527
        },
        "id": "3dbf8212",
        "outputId": "3893e23a-968a-4205-a91c-055df761b604"
      },
      "outputs": [
        {
          "output_type": "execute_result",
          "data": {
            "text/plain": [
              "           _golden _unit_state  _trusted_judgments _last_judgment_at  \\\n",
              "_unit_id                                                               \n",
              "681448150    False   finalized                   3      2/25/15 5:24   \n",
              "681448153    False   finalized                   3      2/25/15 1:53   \n",
              "681448156    False   finalized                   3     2/25/15 10:01   \n",
              "681448158    False   finalized                   3      2/25/15 3:05   \n",
              "681448159    False   finalized                   3      2/25/15 5:50   \n",
              "\n",
              "          airline_sentiment  airline_sentiment:confidence negativereason  \\\n",
              "_unit_id                                                                   \n",
              "681448150           neutral                        1.0000            NaN   \n",
              "681448153          positive                        0.3486            NaN   \n",
              "681448156           neutral                        0.6837            NaN   \n",
              "681448158          negative                        1.0000     Bad Flight   \n",
              "681448159          negative                        1.0000     Can't Tell   \n",
              "\n",
              "           negativereason:confidence         airline airline_sentiment_gold  \\\n",
              "_unit_id                                                                      \n",
              "681448150                        NaN  Virgin America                    NaN   \n",
              "681448153                     0.0000  Virgin America                    NaN   \n",
              "681448156                        NaN  Virgin America                    NaN   \n",
              "681448158                     0.7033  Virgin America                    NaN   \n",
              "681448159                     1.0000  Virgin America                    NaN   \n",
              "\n",
              "                 name negativereason_gold  retweet_count  \\\n",
              "_unit_id                                                   \n",
              "681448150     cairdin                 NaN              0   \n",
              "681448153    jnardino                 NaN              0   \n",
              "681448156  yvonnalynn                 NaN              0   \n",
              "681448158    jnardino                 NaN              0   \n",
              "681448159    jnardino                 NaN              0   \n",
              "\n",
              "                                                        text tweet_coord  \\\n",
              "_unit_id                                                                   \n",
              "681448150                @VirginAmerica What @dhepburn said.         NaN   \n",
              "681448153  @VirginAmerica plus you've added commercials t...         NaN   \n",
              "681448156  @VirginAmerica I didn't today... Must mean I n...         NaN   \n",
              "681448158  @VirginAmerica it's really aggressive to blast...         NaN   \n",
              "681448159  @VirginAmerica and it's a really big bad thing...         NaN   \n",
              "\n",
              "           tweet_created      tweet_id tweet_location  \\\n",
              "_unit_id                                                \n",
              "681448150  2/24/15 11:35  5.703060e+17            NaN   \n",
              "681448153  2/24/15 11:15  5.703010e+17            NaN   \n",
              "681448156  2/24/15 11:15  5.703010e+17      Lets Play   \n",
              "681448158  2/24/15 11:15  5.703010e+17            NaN   \n",
              "681448159  2/24/15 11:14  5.703010e+17            NaN   \n",
              "\n",
              "                        user_timezone  \n",
              "_unit_id                               \n",
              "681448150  Eastern Time (US & Canada)  \n",
              "681448153  Pacific Time (US & Canada)  \n",
              "681448156  Central Time (US & Canada)  \n",
              "681448158  Pacific Time (US & Canada)  \n",
              "681448159  Pacific Time (US & Canada)  "
            ],
            "text/html": [
              "\n",
              "  <div id=\"df-32d366af-8ac3-4c87-8a34-e5f547fcddc4\">\n",
              "    <div class=\"colab-df-container\">\n",
              "      <div>\n",
              "<style scoped>\n",
              "    .dataframe tbody tr th:only-of-type {\n",
              "        vertical-align: middle;\n",
              "    }\n",
              "\n",
              "    .dataframe tbody tr th {\n",
              "        vertical-align: top;\n",
              "    }\n",
              "\n",
              "    .dataframe thead th {\n",
              "        text-align: right;\n",
              "    }\n",
              "</style>\n",
              "<table border=\"1\" class=\"dataframe\">\n",
              "  <thead>\n",
              "    <tr style=\"text-align: right;\">\n",
              "      <th></th>\n",
              "      <th>_golden</th>\n",
              "      <th>_unit_state</th>\n",
              "      <th>_trusted_judgments</th>\n",
              "      <th>_last_judgment_at</th>\n",
              "      <th>airline_sentiment</th>\n",
              "      <th>airline_sentiment:confidence</th>\n",
              "      <th>negativereason</th>\n",
              "      <th>negativereason:confidence</th>\n",
              "      <th>airline</th>\n",
              "      <th>airline_sentiment_gold</th>\n",
              "      <th>name</th>\n",
              "      <th>negativereason_gold</th>\n",
              "      <th>retweet_count</th>\n",
              "      <th>text</th>\n",
              "      <th>tweet_coord</th>\n",
              "      <th>tweet_created</th>\n",
              "      <th>tweet_id</th>\n",
              "      <th>tweet_location</th>\n",
              "      <th>user_timezone</th>\n",
              "    </tr>\n",
              "    <tr>\n",
              "      <th>_unit_id</th>\n",
              "      <th></th>\n",
              "      <th></th>\n",
              "      <th></th>\n",
              "      <th></th>\n",
              "      <th></th>\n",
              "      <th></th>\n",
              "      <th></th>\n",
              "      <th></th>\n",
              "      <th></th>\n",
              "      <th></th>\n",
              "      <th></th>\n",
              "      <th></th>\n",
              "      <th></th>\n",
              "      <th></th>\n",
              "      <th></th>\n",
              "      <th></th>\n",
              "      <th></th>\n",
              "      <th></th>\n",
              "      <th></th>\n",
              "    </tr>\n",
              "  </thead>\n",
              "  <tbody>\n",
              "    <tr>\n",
              "      <th>681448150</th>\n",
              "      <td>False</td>\n",
              "      <td>finalized</td>\n",
              "      <td>3</td>\n",
              "      <td>2/25/15 5:24</td>\n",
              "      <td>neutral</td>\n",
              "      <td>1.0000</td>\n",
              "      <td>NaN</td>\n",
              "      <td>NaN</td>\n",
              "      <td>Virgin America</td>\n",
              "      <td>NaN</td>\n",
              "      <td>cairdin</td>\n",
              "      <td>NaN</td>\n",
              "      <td>0</td>\n",
              "      <td>@VirginAmerica What @dhepburn said.</td>\n",
              "      <td>NaN</td>\n",
              "      <td>2/24/15 11:35</td>\n",
              "      <td>5.703060e+17</td>\n",
              "      <td>NaN</td>\n",
              "      <td>Eastern Time (US &amp; Canada)</td>\n",
              "    </tr>\n",
              "    <tr>\n",
              "      <th>681448153</th>\n",
              "      <td>False</td>\n",
              "      <td>finalized</td>\n",
              "      <td>3</td>\n",
              "      <td>2/25/15 1:53</td>\n",
              "      <td>positive</td>\n",
              "      <td>0.3486</td>\n",
              "      <td>NaN</td>\n",
              "      <td>0.0000</td>\n",
              "      <td>Virgin America</td>\n",
              "      <td>NaN</td>\n",
              "      <td>jnardino</td>\n",
              "      <td>NaN</td>\n",
              "      <td>0</td>\n",
              "      <td>@VirginAmerica plus you've added commercials t...</td>\n",
              "      <td>NaN</td>\n",
              "      <td>2/24/15 11:15</td>\n",
              "      <td>5.703010e+17</td>\n",
              "      <td>NaN</td>\n",
              "      <td>Pacific Time (US &amp; Canada)</td>\n",
              "    </tr>\n",
              "    <tr>\n",
              "      <th>681448156</th>\n",
              "      <td>False</td>\n",
              "      <td>finalized</td>\n",
              "      <td>3</td>\n",
              "      <td>2/25/15 10:01</td>\n",
              "      <td>neutral</td>\n",
              "      <td>0.6837</td>\n",
              "      <td>NaN</td>\n",
              "      <td>NaN</td>\n",
              "      <td>Virgin America</td>\n",
              "      <td>NaN</td>\n",
              "      <td>yvonnalynn</td>\n",
              "      <td>NaN</td>\n",
              "      <td>0</td>\n",
              "      <td>@VirginAmerica I didn't today... Must mean I n...</td>\n",
              "      <td>NaN</td>\n",
              "      <td>2/24/15 11:15</td>\n",
              "      <td>5.703010e+17</td>\n",
              "      <td>Lets Play</td>\n",
              "      <td>Central Time (US &amp; Canada)</td>\n",
              "    </tr>\n",
              "    <tr>\n",
              "      <th>681448158</th>\n",
              "      <td>False</td>\n",
              "      <td>finalized</td>\n",
              "      <td>3</td>\n",
              "      <td>2/25/15 3:05</td>\n",
              "      <td>negative</td>\n",
              "      <td>1.0000</td>\n",
              "      <td>Bad Flight</td>\n",
              "      <td>0.7033</td>\n",
              "      <td>Virgin America</td>\n",
              "      <td>NaN</td>\n",
              "      <td>jnardino</td>\n",
              "      <td>NaN</td>\n",
              "      <td>0</td>\n",
              "      <td>@VirginAmerica it's really aggressive to blast...</td>\n",
              "      <td>NaN</td>\n",
              "      <td>2/24/15 11:15</td>\n",
              "      <td>5.703010e+17</td>\n",
              "      <td>NaN</td>\n",
              "      <td>Pacific Time (US &amp; Canada)</td>\n",
              "    </tr>\n",
              "    <tr>\n",
              "      <th>681448159</th>\n",
              "      <td>False</td>\n",
              "      <td>finalized</td>\n",
              "      <td>3</td>\n",
              "      <td>2/25/15 5:50</td>\n",
              "      <td>negative</td>\n",
              "      <td>1.0000</td>\n",
              "      <td>Can't Tell</td>\n",
              "      <td>1.0000</td>\n",
              "      <td>Virgin America</td>\n",
              "      <td>NaN</td>\n",
              "      <td>jnardino</td>\n",
              "      <td>NaN</td>\n",
              "      <td>0</td>\n",
              "      <td>@VirginAmerica and it's a really big bad thing...</td>\n",
              "      <td>NaN</td>\n",
              "      <td>2/24/15 11:14</td>\n",
              "      <td>5.703010e+17</td>\n",
              "      <td>NaN</td>\n",
              "      <td>Pacific Time (US &amp; Canada)</td>\n",
              "    </tr>\n",
              "  </tbody>\n",
              "</table>\n",
              "</div>\n",
              "      <button class=\"colab-df-convert\" onclick=\"convertToInteractive('df-32d366af-8ac3-4c87-8a34-e5f547fcddc4')\"\n",
              "              title=\"Convert this dataframe to an interactive table.\"\n",
              "              style=\"display:none;\">\n",
              "        \n",
              "  <svg xmlns=\"http://www.w3.org/2000/svg\" height=\"24px\"viewBox=\"0 0 24 24\"\n",
              "       width=\"24px\">\n",
              "    <path d=\"M0 0h24v24H0V0z\" fill=\"none\"/>\n",
              "    <path d=\"M18.56 5.44l.94 2.06.94-2.06 2.06-.94-2.06-.94-.94-2.06-.94 2.06-2.06.94zm-11 1L8.5 8.5l.94-2.06 2.06-.94-2.06-.94L8.5 2.5l-.94 2.06-2.06.94zm10 10l.94 2.06.94-2.06 2.06-.94-2.06-.94-.94-2.06-.94 2.06-2.06.94z\"/><path d=\"M17.41 7.96l-1.37-1.37c-.4-.4-.92-.59-1.43-.59-.52 0-1.04.2-1.43.59L10.3 9.45l-7.72 7.72c-.78.78-.78 2.05 0 2.83L4 21.41c.39.39.9.59 1.41.59.51 0 1.02-.2 1.41-.59l7.78-7.78 2.81-2.81c.8-.78.8-2.07 0-2.86zM5.41 20L4 18.59l7.72-7.72 1.47 1.35L5.41 20z\"/>\n",
              "  </svg>\n",
              "      </button>\n",
              "      \n",
              "  <style>\n",
              "    .colab-df-container {\n",
              "      display:flex;\n",
              "      flex-wrap:wrap;\n",
              "      gap: 12px;\n",
              "    }\n",
              "\n",
              "    .colab-df-convert {\n",
              "      background-color: #E8F0FE;\n",
              "      border: none;\n",
              "      border-radius: 50%;\n",
              "      cursor: pointer;\n",
              "      display: none;\n",
              "      fill: #1967D2;\n",
              "      height: 32px;\n",
              "      padding: 0 0 0 0;\n",
              "      width: 32px;\n",
              "    }\n",
              "\n",
              "    .colab-df-convert:hover {\n",
              "      background-color: #E2EBFA;\n",
              "      box-shadow: 0px 1px 2px rgba(60, 64, 67, 0.3), 0px 1px 3px 1px rgba(60, 64, 67, 0.15);\n",
              "      fill: #174EA6;\n",
              "    }\n",
              "\n",
              "    [theme=dark] .colab-df-convert {\n",
              "      background-color: #3B4455;\n",
              "      fill: #D2E3FC;\n",
              "    }\n",
              "\n",
              "    [theme=dark] .colab-df-convert:hover {\n",
              "      background-color: #434B5C;\n",
              "      box-shadow: 0px 1px 3px 1px rgba(0, 0, 0, 0.15);\n",
              "      filter: drop-shadow(0px 1px 2px rgba(0, 0, 0, 0.3));\n",
              "      fill: #FFFFFF;\n",
              "    }\n",
              "  </style>\n",
              "\n",
              "      <script>\n",
              "        const buttonEl =\n",
              "          document.querySelector('#df-32d366af-8ac3-4c87-8a34-e5f547fcddc4 button.colab-df-convert');\n",
              "        buttonEl.style.display =\n",
              "          google.colab.kernel.accessAllowed ? 'block' : 'none';\n",
              "\n",
              "        async function convertToInteractive(key) {\n",
              "          const element = document.querySelector('#df-32d366af-8ac3-4c87-8a34-e5f547fcddc4');\n",
              "          const dataTable =\n",
              "            await google.colab.kernel.invokeFunction('convertToInteractive',\n",
              "                                                     [key], {});\n",
              "          if (!dataTable) return;\n",
              "\n",
              "          const docLinkHtml = 'Like what you see? Visit the ' +\n",
              "            '<a target=\"_blank\" href=https://colab.research.google.com/notebooks/data_table.ipynb>data table notebook</a>'\n",
              "            + ' to learn more about interactive tables.';\n",
              "          element.innerHTML = '';\n",
              "          dataTable['output_type'] = 'display_data';\n",
              "          await google.colab.output.renderOutput(dataTable, element);\n",
              "          const docLink = document.createElement('div');\n",
              "          docLink.innerHTML = docLinkHtml;\n",
              "          element.appendChild(docLink);\n",
              "        }\n",
              "      </script>\n",
              "    </div>\n",
              "  </div>\n",
              "  "
            ]
          },
          "metadata": {},
          "execution_count": 2
        }
      ],
      "source": [
        "import pandas as pd\n",
        "url = 'https://raw.githubusercontent.com/gbam-ds/FinalProject_IntroPython/main/Airline-Sentiment-2-w-AA.csv'\n",
        "airline = pd.read_csv(url,index_col=0,parse_dates=[0], encoding = \"ISO-8859-1\")\n",
        "airline.head() "
      ]
    },
    {
      "cell_type": "code",
      "execution_count": null,
      "id": "0ebb3344",
      "metadata": {
        "id": "0ebb3344",
        "outputId": "4131bbc1-f5aa-440f-8466-249f957022ba"
      },
      "outputs": [
        {
          "data": {
            "text/plain": [
              "(14640, 20)"
            ]
          },
          "execution_count": 2,
          "metadata": {},
          "output_type": "execute_result"
        }
      ],
      "source": [
        "#qtd de observações totais e únicas\n",
        "airline.shape"
      ]
    },
    {
      "cell_type": "code",
      "execution_count": null,
      "id": "acab22c2",
      "metadata": {
        "id": "acab22c2",
        "outputId": "aec43590-fa88-4267-c7dd-27268fa0fa23"
      },
      "outputs": [
        {
          "data": {
            "text/plain": [
              "_unit_id                          int64\n",
              "_golden                            bool\n",
              "_unit_state                      object\n",
              "_trusted_judgments                int64\n",
              "_last_judgment_at                object\n",
              "airline_sentiment                object\n",
              "airline_sentiment:confidence    float64\n",
              "negativereason                   object\n",
              "negativereason:confidence       float64\n",
              "airline                          object\n",
              "airline_sentiment_gold           object\n",
              "name                             object\n",
              "negativereason_gold              object\n",
              "retweet_count                     int64\n",
              "text                             object\n",
              "tweet_coord                      object\n",
              "tweet_created                    object\n",
              "tweet_id                        float64\n",
              "tweet_location                   object\n",
              "user_timezone                    object\n",
              "dtype: object"
            ]
          },
          "execution_count": 3,
          "metadata": {},
          "output_type": "execute_result"
        }
      ],
      "source": [
        "#conhecendo as variáveis\n",
        "airline.dtypes"
      ]
    },
    {
      "cell_type": "code",
      "execution_count": null,
      "id": "a69054b8",
      "metadata": {
        "id": "a69054b8",
        "outputId": "0114712d-fc2e-4a8e-8b7a-24f13230d9a9"
      },
      "outputs": [
        {
          "name": "stdout",
          "output_type": "stream",
          "text": [
            "negativereason_gold             14608\n",
            "airline_sentiment_gold          14600\n",
            "tweet_coord                     13621\n",
            "negativereason                   5462\n",
            "user_timezone                    4820\n",
            "tweet_location                   4733\n",
            "negativereason:confidence        4118\n",
            "_last_judgment_at                  56\n",
            "airline_sentiment                   0\n",
            "airline_sentiment:confidence        0\n",
            "airline                             0\n",
            "_golden                             0\n",
            "name                                0\n",
            "_trusted_judgments                  0\n",
            "retweet_count                       0\n",
            "text                                0\n",
            "_unit_state                         0\n",
            "tweet_created                       0\n",
            "tweet_id                            0\n",
            "_unit_id                            0\n",
            "dtype: int64\n"
          ]
        }
      ],
      "source": [
        "#nulo\n",
        "print(airline.isnull().sum().sort_values(ascending = False))"
      ]
    },
    {
      "cell_type": "code",
      "execution_count": null,
      "id": "609faaee",
      "metadata": {
        "scrolled": true,
        "id": "609faaee",
        "outputId": "b4766eba-874d-4a80-84aa-2c4fcdd228fa"
      },
      "outputs": [
        {
          "data": {
            "text/html": [
              "<div>\n",
              "<style scoped>\n",
              "    .dataframe tbody tr th:only-of-type {\n",
              "        vertical-align: middle;\n",
              "    }\n",
              "\n",
              "    .dataframe tbody tr th {\n",
              "        vertical-align: top;\n",
              "    }\n",
              "\n",
              "    .dataframe thead th {\n",
              "        text-align: right;\n",
              "    }\n",
              "</style>\n",
              "<table border=\"1\" class=\"dataframe\">\n",
              "  <thead>\n",
              "    <tr style=\"text-align: right;\">\n",
              "      <th></th>\n",
              "      <th>_unit_id</th>\n",
              "      <th>_golden</th>\n",
              "      <th>_unit_state</th>\n",
              "      <th>_trusted_judgments</th>\n",
              "      <th>_last_judgment_at</th>\n",
              "      <th>airline_sentiment</th>\n",
              "      <th>airline_sentiment:confidence</th>\n",
              "      <th>negativereason</th>\n",
              "      <th>negativereason:confidence</th>\n",
              "      <th>airline</th>\n",
              "      <th>airline_sentiment_gold</th>\n",
              "      <th>name</th>\n",
              "      <th>negativereason_gold</th>\n",
              "      <th>retweet_count</th>\n",
              "      <th>text</th>\n",
              "      <th>tweet_coord</th>\n",
              "      <th>tweet_created</th>\n",
              "      <th>tweet_id</th>\n",
              "      <th>tweet_location</th>\n",
              "      <th>user_timezone</th>\n",
              "    </tr>\n",
              "  </thead>\n",
              "  <tbody>\n",
              "  </tbody>\n",
              "</table>\n",
              "</div>"
            ],
            "text/plain": [
              "Empty DataFrame\n",
              "Columns: [_unit_id, _golden, _unit_state, _trusted_judgments, _last_judgment_at, airline_sentiment, airline_sentiment:confidence, negativereason, negativereason:confidence, airline, airline_sentiment_gold, name, negativereason_gold, retweet_count, text, tweet_coord, tweet_created, tweet_id, tweet_location, user_timezone]\n",
              "Index: []"
            ]
          },
          "execution_count": 9,
          "metadata": {},
          "output_type": "execute_result"
        }
      ],
      "source": [
        "#duplicado\n",
        "airline[airline.duplicated()]"
      ]
    },
    {
      "cell_type": "markdown",
      "source": [
        "Nao temos duplicados"
      ],
      "metadata": {
        "id": "2GhzrdcXj3wc"
      },
      "id": "2GhzrdcXj3wc"
    },
    {
      "cell_type": "code",
      "execution_count": null,
      "id": "03d0dd59",
      "metadata": {
        "scrolled": true,
        "id": "03d0dd59",
        "outputId": "2e443dce-eebc-4320-debc-d6f34751e75e"
      },
      "outputs": [
        {
          "data": {
            "image/png": "[encoded data removed]",
            "text/plain": [
              "<Figure size 640x480 with 1 Axes>"
            ]
          },
          "metadata": {},
          "output_type": "display_data"
        },
        {
          "data": {
            "text/plain": [
              "(<AxesSubplot:title={'center':'Sentimentos em relação às linhas aéreas'}>,\n",
              " (array([0, 1, 2]),\n",
              "  [Text(0, 0, 'negative'), Text(1, 0, 'neutral'), Text(2, 0, 'positive')]),\n",
              " Text(0.5, 1.0, 'Sentimentos em relação às linhas aéreas'),\n",
              " None)"
            ]
          },
          "execution_count": 10,
          "metadata": {},
          "output_type": "execute_result"
        }
      ],
      "source": [
        "import matplotlib.pyplot as plt\n",
        "\n",
        "cont = airline['airline_sentiment'].value_counts()\n",
        "cont.plot(kind='bar'), plt.xticks(rotation = 360), plt.title('Sentimentos em relação às linhas aéreas'), plt.show()"
      ]
    },
    {
      "cell_type": "code",
      "execution_count": null,
      "id": "571f9697",
      "metadata": {
        "scrolled": true,
        "id": "571f9697",
        "outputId": "15bd8b94-f111-4136-9353-0f8ea11f2c54"
      },
      "outputs": [
        {
          "data": {
            "image/png": "[encoded data removed]",
            "text/plain": [
              "<Figure size 640x480 with 1 Axes>"
            ]
          },
          "metadata": {},
          "output_type": "display_data"
        },
        {
          "data": {
            "text/plain": [
              "(Text(0.5, 1.0, 'Confiança em relação à analise de sentimentos'), None)"
            ]
          },
          "execution_count": 11,
          "metadata": {},
          "output_type": "execute_result"
        }
      ],
      "source": [
        "airline['airline_sentiment:confidence'].plot.hist(alpha=0.7);\n",
        "plt.title('Confiança em relação à analise de sentimentos'), plt.show()"
      ]
    },
    {
      "cell_type": "code",
      "execution_count": null,
      "id": "ae7d1863",
      "metadata": {
        "id": "ae7d1863",
        "outputId": "1a19a1b4-6a25-46b9-ee0e-0ce0057ef26f"
      },
      "outputs": [
        {
          "data": {
            "image/png": "[encoded data removed]",
            "text/plain": [
              "<Figure size 640x480 with 1 Axes>"
            ]
          },
          "metadata": {},
          "output_type": "display_data"
        },
        {
          "data": {
            "text/plain": [
              "(Text(0.5, 1.0, 'Principais razões de queixa'), None)"
            ]
          },
          "execution_count": 8,
          "metadata": {},
          "output_type": "execute_result"
        }
      ],
      "source": [
        "cont = airline['negativereason'].value_counts()\n",
        "cont.plot(kind='bar')\n",
        "plt.title('Principais razões de queixa'), plt.show()"
      ]
    },
    {
      "cell_type": "code",
      "execution_count": null,
      "id": "b3f0d48b",
      "metadata": {
        "id": "b3f0d48b",
        "outputId": "8a7b9a67-af33-4784-b77e-9b47c2c7c902"
      },
      "outputs": [
        {
          "data": {
            "image/png": "[encoded data removed]",
            "text/plain": [
              "<Figure size 640x480 with 1 Axes>"
            ]
          },
          "metadata": {},
          "output_type": "display_data"
        },
        {
          "data": {
            "text/plain": [
              "(Text(0.5, 1.0, 'Top 5 time zones'), None)"
            ]
          },
          "execution_count": 10,
          "metadata": {},
          "output_type": "execute_result"
        }
      ],
      "source": [
        "cont = airline['user_timezone'].value_counts()[:5]\n",
        "cont.plot(kind='bar')\n",
        "plt.title('Top 5 time zones'), plt.show()"
      ]
    },
    {
      "cell_type": "code",
      "execution_count": null,
      "id": "21cdb2b0",
      "metadata": {
        "id": "21cdb2b0"
      },
      "outputs": [],
      "source": [
        "from textblob import TextBlob,Word\n",
        "\n",
        "def polarity(x):\n",
        "  try:\n",
        "      return TextBlob(x).sentiment[0]\n",
        "  except:\n",
        "        return 9"
      ]
    },
    {
      "cell_type": "code",
      "source": [
        "sentiments = airline[\"text\"].apply(lambda x: polarity(x))\n",
        "sentiments.hist();\n",
        "plt.title('Análise de sentimentos (Base Completa)'), plt.show()\n",
        "import statistics\n",
        "x = statistics.mean(sentiments)\n",
        "print(\"A média é:\", x)"
      ],
      "metadata": {
        "colab": {
          "base_uri": "https://localhost:8080/",
          "height": 298
        },
        "id": "Gex9NMYygFRc",
        "outputId": "d78ac70f-d75c-46bb-f9ce-cfebc852b2ff"
      },
      "id": "Gex9NMYygFRc",
      "execution_count": null,
      "outputs": [
        {
          "output_type": "display_data",
          "data": {
            "text/plain": [
              "<Figure size 432x288 with 1 Axes>"
            ],
            "image/png": "[encoded data removed]"
          },
          "metadata": {
            "needs_background": "light"
          }
        },
        {
          "output_type": "stream",
          "name": "stdout",
          "text": [
            "A média é: 0.048857191173908146\n"
          ]
        }
      ]
    },
    {
      "cell_type": "code",
      "source": [
        "sentiments = airline[\"text\"].apply(lambda x: polarity(x))\n",
        "sentiments.hist(bins=3);"
      ],
      "metadata": {
        "colab": {
          "base_uri": "https://localhost:8080/",
          "height": 265
        },
        "id": "amp7gmXzkYBC",
        "outputId": "74fd03f7-ddfa-4981-c9c4-84c3d4ea84f9"
      },
      "id": "amp7gmXzkYBC",
      "execution_count": null,
      "outputs": [
        {
          "output_type": "display_data",
          "data": {
            "text/plain": [
              "<Figure size 432x288 with 1 Axes>"
            ],
            "image/png": "[encoded data removed]"
          },
          "metadata": {
            "needs_background": "light"
          }
        }
      ]
    },
    {
      "cell_type": "code",
      "source": [
        "import matplotlib.pyplot as plt"
      ],
      "metadata": {
        "id": "V7mhumnAyHlE"
      },
      "id": "V7mhumnAyHlE",
      "execution_count": null,
      "outputs": []
    },
    {
      "cell_type": "markdown",
      "source": [
        "Resultados diferentes: mais neutros, mais positivos. Intuitivamente, o encontrado anterior faz mais sentido..."
      ],
      "metadata": {
        "id": "qiq2Ol2Fkngj"
      },
      "id": "qiq2Ol2Fkngj"
    },
    {
      "cell_type": "code",
      "source": [
        "# testando a robustez e eficiência do algoritmo\n",
        "\n",
        "positive = airline[(airline.airline_sentiment == \"positive\")]\n",
        "sentiments = positive[\"text\"].apply(lambda x: polarity(x))\n",
        "sentiments.hist();\n",
        "plt.title('Análise de sentimentos positivos'), plt.show()\n",
        "import statistics\n",
        "x = statistics.mean(sentiments)\n",
        "print(\"A média é:\", x)"
      ],
      "metadata": {
        "colab": {
          "base_uri": "https://localhost:8080/",
          "height": 298
        },
        "id": "zaqAh0SNv0oV",
        "outputId": "8a229331-5963-4fe0-a08d-55a0b93b25ca"
      },
      "id": "zaqAh0SNv0oV",
      "execution_count": null,
      "outputs": [
        {
          "output_type": "display_data",
          "data": {
            "text/plain": [
              "<Figure size 432x288 with 1 Axes>"
            ],
            "image/png": "[encoded data removed]"
          },
          "metadata": {
            "needs_background": "light"
          }
        },
        {
          "output_type": "stream",
          "name": "stdout",
          "text": [
            "A média é: 0.3314143141299683\n"
          ]
        }
      ]
    },
    {
      "cell_type": "code",
      "source": [
        "# testando a robustez e eficiência do algoritmo\n",
        "\n",
        "negative = airline[(airline.airline_sentiment == \"negative\")]\n",
        "sentiments = negative[\"text\"].apply(lambda x: polarity(x))\n",
        "sentiments.hist();\n",
        "plt.title('Análise de sentimentos negativos'), plt.show()\n",
        "import statistics\n",
        "x = statistics.mean(sentiments)\n",
        "print(\"A média é:\", x)\n",
        "\n",
        "# eficiência aparentemente menor se comparada aos sentimentos positivos"
      ],
      "metadata": {
        "colab": {
          "base_uri": "https://localhost:8080/",
          "height": 298
        },
        "id": "BysDQrRCyx_A",
        "outputId": "e77bd894-f479-4edb-9ab5-3ed1a3550d6b"
      },
      "id": "BysDQrRCyx_A",
      "execution_count": null,
      "outputs": [
        {
          "output_type": "display_data",
          "data": {
            "text/plain": [
              "<Figure size 432x288 with 1 Axes>"
            ],
            "image/png": "[encoded data removed]"
          },
          "metadata": {
            "needs_background": "light"
          }
        },
        {
          "output_type": "stream",
          "name": "stdout",
          "text": [
            "A média é: -0.03572761606203103\n"
          ]
        }
      ]
    },
    {
      "cell_type": "code",
      "source": [
        "negative = airline[(airline.airline_sentiment == \"negative\")]\n",
        "x = statistics.mean(negative[\"retweet_count\"])\n",
        "print(\"A média é:\", x)\n",
        "\n",
        "\n"
      ],
      "metadata": {
        "colab": {
          "base_uri": "https://localhost:8080/"
        },
        "id": "qtaGRYcQ0CmO",
        "outputId": "0ed692ee-6712-4ac0-9f8e-0409dca4dc9b"
      },
      "id": "qtaGRYcQ0CmO",
      "execution_count": null,
      "outputs": [
        {
          "output_type": "stream",
          "name": "stdout",
          "text": [
            "A média é: 0.09337546306384834\n"
          ]
        }
      ]
    },
    {
      "cell_type": "code",
      "source": [
        "positive = airline[(airline.airline_sentiment == \"positive\")]\n",
        "x = statistics.mean(positive[\"retweet_count\"])\n",
        "print(\"A média é:\", x)\n"
      ],
      "metadata": {
        "colab": {
          "base_uri": "https://localhost:8080/"
        },
        "id": "NJn1eGUR1INi",
        "outputId": "fe51cf36-4635-458d-e726-366fcf584f4e"
      },
      "id": "NJn1eGUR1INi",
      "execution_count": null,
      "outputs": [
        {
          "output_type": "stream",
          "name": "stdout",
          "text": [
            "A média é: 0.06940330088870081\n"
          ]
        }
      ]
    }
  ],
  "metadata": {
    "hide_input": false,
    "kernelspec": {
      "display_name": "Python 3",
      "language": "python",
      "name": "python3"
    },
    "language_info": {
      "codemirror_mode": {
        "name": "ipython",
        "version": 3
      },
      "file_extension": ".py",
      "mimetype": "text/x-python",
      "name": "python",
      "nbconvert_exporter": "python",
      "pygments_lexer": "ipython3",
      "version": "3.8.8"
    },
    "toc": {
      "base_numbering": 1,
      "nav_menu": {},
      "number_sections": true,
      "sideBar": true,
      "skip_h1_title": false,
      "title_cell": "Table of Contents",
      "title_sidebar": "Contents",
      "toc_cell": false,
      "toc_position": {},
      "toc_section_display": true,
      "toc_window_display": false
    },
    "colab": {
      "name": "Trabalho Prático - Parte 1 - Grupo X.ipynb",
      "provenance": [],
      "include_colab_link": true
    }
  },
  "nbformat": 4,
  "nbformat_minor": 5
}